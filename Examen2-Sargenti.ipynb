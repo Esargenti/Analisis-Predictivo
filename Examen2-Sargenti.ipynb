{
  "cells": [
    {
      "cell_type": "markdown",
      "metadata": {
        "id": "view-in-github",
        "colab_type": "text"
      },
      "source": [
        "<a href=\"https://colab.research.google.com/github/Esargenti/Analisis-Predictivo/blob/main/Examen2-Sargenti.ipynb\" target=\"_parent\"><img src=\"https://colab.research.google.com/assets/colab-badge.svg\" alt=\"Open In Colab\"/></a>"
      ]
    },
    {
      "cell_type": "markdown",
      "metadata": {
        "id": "o00RJ_Oq3B1Z"
      },
      "source": [
        "## **Installs**"
      ]
    },
    {
      "cell_type": "code",
      "execution_count": null,
      "metadata": {
        "id": "rU2cD3sO0Z1V"
      },
      "outputs": [],
      "source": [
        "! pip install skimpy\n",
        "! pip install catboost"
      ]
    },
    {
      "cell_type": "markdown",
      "metadata": {
        "id": "aJunq5tg3RYo"
      },
      "source": [
        "## **Imports**"
      ]
    },
    {
      "cell_type": "code",
      "execution_count": 2,
      "metadata": {
        "id": "7SXJJEqB3VsC"
      },
      "outputs": [],
      "source": [
        "import pandas as pd\n",
        "import numpy as np\n",
        "import seaborn as sns\n",
        "import matplotlib.pyplot as plt\n",
        "from skimpy import skim\n",
        "from sklearn.impute import SimpleImputer\n",
        "from sklearn.model_selection import train_test_split\n",
        "from sklearn.linear_model import LinearRegression\n",
        "from datetime import datetime\n",
        "from sklearn.tree import DecisionTreeRegressor\n",
        "from sklearn.ensemble import ExtraTreesClassifier\n",
        "from sklearn.ensemble import AdaBoostRegressor\n",
        "from sklearn.ensemble import RandomForestRegressor\n",
        "from sklearn.linear_model import Ridge\n",
        "from xgboost import XGBRegressor\n",
        "from sklearn.model_selection import GridSearchCV,\\\n",
        "RandomizedSearchCV\n",
        "from sklearn.linear_model import LogisticRegression\n",
        "from sklearn.ensemble import HistGradientBoostingRegressor\n",
        "from sklearn.ensemble import GradientBoostingRegressor\n",
        "import catboost as cb\n",
        "from sklearn.metrics import mean_squared_error\n",
        "from sklearn.metrics import r2_score\n",
        "from sklearn.svm import SVC\n",
        "import lightgbm as lgb "
      ]
    },
    {
      "cell_type": "markdown",
      "metadata": {
        "id": "nbvROelG3ttz"
      },
      "source": [
        "## **Carga de Datos**"
      ]
    },
    {
      "cell_type": "code",
      "execution_count": 3,
      "metadata": {
        "id": "25zQ7H_d3vbs",
        "colab": {
          "base_uri": "https://localhost:8080/"
        },
        "outputId": "af0aacc7-c161-474a-fd59-b889ec786541"
      },
      "outputs": [
        {
          "output_type": "stream",
          "name": "stdout",
          "text": [
            "Mounted at /content/drive\n",
            "Downloading analisis-predictivo-2023q1.zip to /content\n",
            "  0% 0.00/3.83M [00:00<?, ?B/s]\n",
            "100% 3.83M/3.83M [00:00<00:00, 209MB/s]\n"
          ]
        }
      ],
      "source": [
        "import json\n",
        "from google.colab import drive\n",
        "\n",
        "!mkdir ~/.kaggle\n",
        "!touch ~/.kaggle/kaggle.json\n",
        "drive.mount(\"/content/drive\", force_remount=True)\n",
        "\n",
        "\n",
        "with open(\"/content/drive/MyDrive/1C-2023/Análisis Predictivo/Examen2/kaggle.json\",\"r\") as f:\n",
        "  api_token=json.load(f)\n",
        "\n",
        "with open(\"/root/.kaggle/kaggle.json\", \"w\") as file:\n",
        "  json.dump(api_token, file)\n",
        "\n",
        "!chmod 600 ~/.kaggle/kaggle.json\n",
        "\n",
        "!kaggle competitions download -c analisis-predictivo-2023q1\n",
        "\n",
        "import zipfile\n",
        "import os\n",
        "\n",
        "os.listdir()\n",
        "for file in os.listdir():\n",
        "  if file.endswith(\".zip\"):\n",
        "    zip_ref=zipfile.ZipFile(file, \"r\")\n",
        "    zip_ref.extractall()\n",
        "    zip_ref.close()"
      ]
    },
    {
      "cell_type": "code",
      "execution_count": 4,
      "metadata": {
        "id": "B55846I23yWk"
      },
      "outputs": [],
      "source": [
        "#cargo los datos desde el archivo .csv\n",
        "df=pd.read_csv(\"base_train.csv\")"
      ]
    },
    {
      "cell_type": "markdown",
      "metadata": {
        "id": "pURIrWss4MD3"
      },
      "source": [
        "## **Vista de los Datos**"
      ]
    },
    {
      "cell_type": "code",
      "execution_count": null,
      "metadata": {
        "id": "mRk6LgJG4O98"
      },
      "outputs": [],
      "source": [
        "df.columns"
      ]
    },
    {
      "cell_type": "code",
      "execution_count": null,
      "metadata": {
        "id": "Y71_ghrp4Q9H"
      },
      "outputs": [],
      "source": [
        "df.info()"
      ]
    },
    {
      "cell_type": "code",
      "execution_count": null,
      "metadata": {
        "id": "PRBofSoN4Sak"
      },
      "outputs": [],
      "source": [
        "pd.options.display.max_columns = None"
      ]
    },
    {
      "cell_type": "code",
      "execution_count": null,
      "metadata": {
        "id": "04RrEGFL4Ypz"
      },
      "outputs": [],
      "source": [
        "df.head(5)"
      ]
    },
    {
      "cell_type": "code",
      "execution_count": null,
      "metadata": {
        "id": "oJYRhXxn4lHv"
      },
      "outputs": [],
      "source": [
        "skim(df)"
      ]
    },
    {
      "cell_type": "markdown",
      "metadata": {
        "id": "iKHi0N9N3GFX"
      },
      "source": [
        "## **Distribución de la variable Target**"
      ]
    },
    {
      "cell_type": "code",
      "execution_count": null,
      "metadata": {
        "colab": {
          "base_uri": "https://localhost:8080/"
        },
        "id": "Qva2ptIv3KVa",
        "outputId": "10833d8b-7f37-4888-d5bc-e94ff18d8bb3"
      },
      "outputs": [
        {
          "data": {
            "text/plain": [
              "4.8123295454545465"
            ]
          },
          "execution_count": 95,
          "metadata": {},
          "output_type": "execute_result"
        }
      ],
      "source": [
        "df['review_scores_rating'].mean()"
      ]
    },
    {
      "cell_type": "code",
      "execution_count": null,
      "metadata": {
        "colab": {
          "base_uri": "https://localhost:8080/"
        },
        "id": "8id6L1ig3N6K",
        "outputId": "ab132802-7014-4238-b0ac-ca2374390571"
      },
      "outputs": [
        {
          "data": {
            "text/plain": [
              "4.88"
            ]
          },
          "execution_count": 93,
          "metadata": {},
          "output_type": "execute_result"
        }
      ],
      "source": [
        "df['review_scores_rating'].median()"
      ]
    },
    {
      "cell_type": "code",
      "execution_count": null,
      "metadata": {
        "colab": {
          "base_uri": "https://localhost:8080/"
        },
        "id": "iztf4DdT3O-2",
        "outputId": "dc6404fb-d6e0-407b-d7d1-a0b245b35030"
      },
      "outputs": [
        {
          "data": {
            "text/plain": [
              "<seaborn.axisgrid.FacetGrid at 0x7f3e9d7001c0>"
            ]
          },
          "execution_count": 94,
          "metadata": {},
          "output_type": "execute_result"
        },
        {
          "data": {
            "image/png": "[encoded data removed]",
            "text/plain": [
              "<Figure size 500x500 with 1 Axes>"
            ]
          },
          "metadata": {},
          "output_type": "display_data"
        }
      ],
      "source": [
        "sns.displot(df, x=\"review_scores_rating\")"
      ]
    },
    {
      "cell_type": "markdown",
      "metadata": {
        "id": "Fqu7932A5E3z"
      },
      "source": [
        "## **Correlaciones**"
      ]
    },
    {
      "cell_type": "code",
      "execution_count": null,
      "metadata": {
        "id": "d4I9QuDl5GgN"
      },
      "outputs": [],
      "source": [
        "df.corr()\n",
        "sns.heatmap(df.corr())"
      ]
    },
    {
      "cell_type": "markdown",
      "metadata": {
        "id": "NTDfFVgh69Pd"
      },
      "source": [
        "## **Datos Duplicados**"
      ]
    },
    {
      "cell_type": "code",
      "execution_count": null,
      "metadata": {
        "id": "ugIvFhLk7BR5"
      },
      "outputs": [],
      "source": [
        "df.duplicated().sum()"
      ]
    },
    {
      "cell_type": "markdown",
      "metadata": {
        "id": "tusJC0LN7k0l"
      },
      "source": [
        "# **Variables Numericas**"
      ]
    },
    {
      "cell_type": "code",
      "execution_count": null,
      "metadata": {
        "id": "BCJx_duA9laQ"
      },
      "outputs": [],
      "source": [
        "df.describe().T"
      ]
    },
    {
      "cell_type": "markdown",
      "metadata": {
        "id": "nrs4ItXc90Ci"
      },
      "source": [
        "### Id, Neighbourhood group , Calendar"
      ]
    },
    {
      "cell_type": "code",
      "execution_count": 6,
      "metadata": {
        "id": "9v7hwRsc9zxN"
      },
      "outputs": [],
      "source": [
        "df=df.drop([\"id\",\"neighbourhood_group_cleansed\", \"calendar_updated\"], axis=1)"
      ]
    },
    {
      "cell_type": "code",
      "execution_count": 7,
      "metadata": {
        "id": "_kPlKsr2DhDD"
      },
      "outputs": [],
      "source": [
        "mean_imputer = SimpleImputer(strategy='mean')"
      ]
    },
    {
      "cell_type": "markdown",
      "metadata": {
        "id": "oYJfS1jn99o-"
      },
      "source": [
        "### **Convierto a 0 o 1 las variables T o F**"
      ]
    },
    {
      "cell_type": "markdown",
      "metadata": {
        "id": "Pjsw8qTn-DmO"
      },
      "source": [
        "*Instant_bookable*"
      ]
    },
    {
      "cell_type": "code",
      "execution_count": 8,
      "metadata": {
        "id": "hSZeNbrA-AuT"
      },
      "outputs": [],
      "source": [
        "df.loc[df[\"instant_bookable\"]==\"f\", \"instant_bookable\"] = 0\n",
        "df.loc[df[\"instant_bookable\"]==\"t\", \"instant_bookable\"] = 1\n",
        "df.instant_bookable=df.instant_bookable.astype(\"int64\")"
      ]
    },
    {
      "cell_type": "markdown",
      "metadata": {
        "id": "eV2ZyIUl-qJy"
      },
      "source": [
        "*Host_has_profile_pic*"
      ]
    },
    {
      "cell_type": "code",
      "execution_count": 9,
      "metadata": {
        "id": "oRo9M2U8-uFt"
      },
      "outputs": [],
      "source": [
        "df.loc[df[\"host_has_profile_pic\"]==\"f\", \"host_has_profile_pic\"] = 0\n",
        "df.loc[df[\"host_has_profile_pic\"]==\"t\", \"host_has_profile_pic\"] = 1\n",
        "df.host_has_profile_pic=df.host_has_profile_pic.astype(\"int64\")"
      ]
    },
    {
      "cell_type": "markdown",
      "metadata": {
        "id": "dQPJQp2O-wGR"
      },
      "source": [
        "*Host_identify_verified*"
      ]
    },
    {
      "cell_type": "code",
      "execution_count": 10,
      "metadata": {
        "id": "RQavpS31-xj0"
      },
      "outputs": [],
      "source": [
        "df.loc[df[\"host_identity_verified\"]==\"f\", \"host_identity_verified\"] = 0\n",
        "df.loc[df[\"host_identity_verified\"]==\"t\", \"host_identity_verified\"] = 1\n",
        "df.host_identity_verified=df.host_identity_verified.astype(\"int64\")"
      ]
    },
    {
      "cell_type": "markdown",
      "metadata": {
        "id": "ByamubOw-1LY"
      },
      "source": [
        "*Host_is_superhost*"
      ]
    },
    {
      "cell_type": "code",
      "execution_count": 11,
      "metadata": {
        "id": "dLp8tVMN_BhH"
      },
      "outputs": [],
      "source": [
        "df.loc[df[\"host_is_superhost\"]==\"f\", \"host_is_superhost\"] = 0\n",
        "df.loc[df[\"host_is_superhost\"]==\"t\", \"host_is_superhost\"] = 1\n",
        "df[\"host_is_superhost\"]=mean_imputer.fit_transform(df['host_is_superhost'].values.reshape(-1,1))\n",
        "df.host_is_superhost=df.host_is_superhost.astype(\"int64\")"
      ]
    },
    {
      "cell_type": "markdown",
      "metadata": {
        "id": "WySt8aKl_CKB"
      },
      "source": [
        "*Has_availability*"
      ]
    },
    {
      "cell_type": "code",
      "execution_count": 12,
      "metadata": {
        "id": "U2fT0NdA_X-5"
      },
      "outputs": [],
      "source": [
        "df.loc[df[\"has_availability\"]==\"f\", \"has_availability\"] = 0\n",
        "df.loc[df[\"has_availability\"]==\"t\", \"has_availability\"] = 1\n",
        "df.has_availability=df.has_availability.astype(\"int64\")"
      ]
    },
    {
      "cell_type": "markdown",
      "metadata": {
        "id": "r8ENHplY_5sD"
      },
      "source": [
        "## **Variable Price**"
      ]
    },
    {
      "cell_type": "code",
      "execution_count": 13,
      "metadata": {
        "id": "UL3k8d7X_9zH",
        "colab": {
          "base_uri": "https://localhost:8080/"
        },
        "outputId": "2c39f3bf-2966-4b2e-ba58-6f823bd297c0"
      },
      "outputs": [
        {
          "output_type": "stream",
          "name": "stderr",
          "text": [
            "<ipython-input-13-4048ca88eccf>:2: FutureWarning: The default value of regex will change from True to False in a future version. In addition, single character regular expressions will *not* be treated as literal strings when regex=True.\n",
            "  df.price = df.price.str.replace('$', '')\n"
          ]
        }
      ],
      "source": [
        "# Remuevo $ y , de la variable\n",
        "df.price = df.price.str.replace('$', '')\n",
        "df.price = df.price.str.replace(',', '')\n",
        "df.price = df.price.astype(float)\n",
        "\n",
        "# convierto a int\n",
        "df.price = pd.to_numeric(df.price, errors='coerce')"
      ]
    },
    {
      "cell_type": "markdown",
      "metadata": {
        "id": "_NoeM0JwAA87"
      },
      "source": [
        "## **Response rate y Acceptance Rate**"
      ]
    },
    {
      "cell_type": "markdown",
      "metadata": {
        "id": "HqSyuxblAHIT"
      },
      "source": [
        "*Host_Response_Rate*"
      ]
    },
    {
      "cell_type": "code",
      "execution_count": 14,
      "metadata": {
        "id": "vYabf6xAAF9j"
      },
      "outputs": [],
      "source": [
        "df.host_response_rate = df.host_response_rate.str.replace('%', '')\n",
        "df[\"host_response_rate\"]=mean_imputer.fit_transform(df['host_response_rate'].values.reshape(-1,1))\n",
        "df.host_response_rate=df.host_response_rate.astype(\"int64\")"
      ]
    },
    {
      "cell_type": "markdown",
      "metadata": {
        "id": "_bIBio83AJsQ"
      },
      "source": [
        "*Host_Acceptance_rate*"
      ]
    },
    {
      "cell_type": "code",
      "execution_count": 15,
      "metadata": {
        "id": "4bNMkGvTALpg"
      },
      "outputs": [],
      "source": [
        "df.host_acceptance_rate = df.host_acceptance_rate.str.replace('%', '')\n",
        "df[\"host_acceptance_rate\"]=mean_imputer.fit_transform(df['host_acceptance_rate'].values.reshape(-1,1))\n",
        "df.host_acceptance_rate=df.host_acceptance_rate.astype(\"int64\")"
      ]
    },
    {
      "cell_type": "markdown",
      "metadata": {
        "id": "FlRFJKezAyOg"
      },
      "source": [
        "## **Bathroom**"
      ]
    },
    {
      "cell_type": "code",
      "execution_count": 16,
      "metadata": {
        "id": "QR-yYKaTA2LY"
      },
      "outputs": [],
      "source": [
        "# Creo una nueva columna\n",
        "df['bathrooms_numeric'] = df['bathrooms_text'].str.extract('(\\d+\\.\\d+)', expand=False)\n",
        "#Completo la columna bathrooms con la nueva info\n",
        "df[\"bathrooms\"]=df['bathrooms_numeric']\n",
        "# Elimino la nueva columna\n",
        "df=df.drop([\"bathrooms_numeric\"], axis=1)"
      ]
    },
    {
      "cell_type": "code",
      "execution_count": 17,
      "metadata": {
        "id": "X7EsRHgBA4EV"
      },
      "outputs": [],
      "source": [
        "# Si es Na extraigo solo el numero que tiene\n",
        "df.loc[df[\"bathrooms\"].isnull()==True, \"bathrooms\"] =df['bathrooms_text'].str.extract('(\\d)', expand=False)"
      ]
    },
    {
      "cell_type": "code",
      "execution_count": 18,
      "metadata": {
        "id": "fASFxzcNA5kx"
      },
      "outputs": [],
      "source": [
        "df.bathrooms = df.bathrooms.astype(float)"
      ]
    },
    {
      "cell_type": "markdown",
      "metadata": {
        "id": "mgrxEJmNCnDs"
      },
      "source": [
        "# **Variables Categoricas**"
      ]
    },
    {
      "cell_type": "code",
      "execution_count": 19,
      "metadata": {
        "id": "ph43wyxDCpiu"
      },
      "outputs": [],
      "source": [
        "df=df.drop([\"name\",\"description\", \"neighborhood_overview\",\"host_name\", \"host_about\", \"host_neighbourhood\", \"neighbourhood\",\"bathrooms_text\", \"license\" ], axis=1)\n",
        "#Elimino neighbourhood porque la informacion necesaria está en neighbourhood_cleansed\t"
      ]
    },
    {
      "cell_type": "markdown",
      "metadata": {
        "id": "amJYI06mCuvw"
      },
      "source": [
        "*Dummie-Source*"
      ]
    },
    {
      "cell_type": "code",
      "execution_count": 20,
      "metadata": {
        "id": "re64WDveC4R-"
      },
      "outputs": [],
      "source": [
        "#Con la variable dummie se crean dos columnas para city_scrape o previous_scrape\n",
        "source_nueva=pd.get_dummies(df[\"source\"],prefix=\"source\")\n",
        "#Dejo solo la de city scrape\n",
        "source_nueva=source_nueva.drop([\"source_previous scrape\"],axis=1)\n",
        "#Elimino la columna de source\n",
        "df=df.drop([\"source\"],axis=1)\n",
        "#Reemplazo por la nueva \n",
        "df[\"Source\"]=source_nueva"
      ]
    },
    {
      "cell_type": "markdown",
      "metadata": {
        "id": "9h0gPCIxC46R"
      },
      "source": [
        "*Response Time*"
      ]
    },
    {
      "cell_type": "code",
      "execution_count": 21,
      "metadata": {
        "id": "sRdLAkNYSwxQ"
      },
      "outputs": [],
      "source": [
        "def host_response_time(df):\n",
        "  df[\"host_response_time\"]=np.where(\n",
        "      df[\"host_response_time\"]==(\"within an hour\"),1,np.where(\n",
        "          df[\"host_response_time\"]==(\"within a few hours\"),2,np.where(\n",
        "               df[\"host_response_time\"]==(\"within within a day\"),3,4\n",
        "          )\n",
        "      )\n",
        "  )\n",
        "  return df"
      ]
    },
    {
      "cell_type": "code",
      "execution_count": null,
      "metadata": {
        "id": "BP1nwO_fUPTc"
      },
      "outputs": [],
      "source": [
        "host_response_time(df)"
      ]
    },
    {
      "cell_type": "markdown",
      "metadata": {
        "id": "0hrQu-gSC_5w"
      },
      "source": [
        "Me quedo con el top 5 de las variables *host_location*, *neighbourhood_cleansed*, *property_type*. Luego las transformo en numericas"
      ]
    },
    {
      "cell_type": "code",
      "execution_count": 23,
      "metadata": {
        "id": "2XxKGPMrDHc8"
      },
      "outputs": [],
      "source": [
        "#Funcion para usar en ambas variables\n",
        "def func(a, b):\n",
        "    return not set(a).isdisjoint(b)"
      ]
    },
    {
      "cell_type": "markdown",
      "metadata": {
        "id": "cmIUhJpNDLYZ"
      },
      "source": [
        "*host_location*"
      ]
    },
    {
      "cell_type": "code",
      "execution_count": 24,
      "metadata": {
        "id": "PaYliVFiDL_0"
      },
      "outputs": [],
      "source": [
        "p_location=new = df[\"host_location\"].str.split(\",\", expand = True)\n",
        "df[\"host_location\"]=p_location[1]\n",
        "df[\"host_location\"]=df[\"host_location\"].str.lstrip()"
      ]
    },
    {
      "cell_type": "code",
      "execution_count": 25,
      "metadata": {
        "id": "p_sbbX44DPki"
      },
      "outputs": [],
      "source": [
        "df.loc[df[\"host_location\"]==\"CA\", \"host_location\"] = \"USA\"\n",
        "df.loc[df[\"host_location\"]==\"CO\", \"host_location\"] = \"USA\"\n",
        "df.loc[df[\"host_location\"]==\"DC\", \"host_location\"] = \"USA\"\n",
        "df.loc[df[\"host_location\"]==\"FL\", \"host_location\"] = \"USA\"\n",
        "df.loc[df[\"host_location\"]==\"IL\", \"host_location\"] = \"USA\"\n",
        "df.loc[df[\"host_location\"]==\"NY\", \"host_location\"] = \"USA\"\n",
        "df.loc[df[\"host_location\"]==\"RI\", \"host_location\"] = \"USA\""
      ]
    },
    {
      "cell_type": "code",
      "execution_count": 26,
      "metadata": {
        "id": "q2uIh8FIDSmK"
      },
      "outputs": [],
      "source": [
        "df.loc[df[\"host_location\"].isnull()==True, \"host_location\"] = \"missing\""
      ]
    },
    {
      "cell_type": "code",
      "execution_count": 27,
      "metadata": {
        "id": "0JIWX2xAJSDI"
      },
      "outputs": [],
      "source": [
        "location=pd.DataFrame(df[\"host_location\"].value_counts().rename_axis('unique_values').reset_index(name='counts'))\n",
        "res=location.groupby(['unique_values']).sum().reset_index()\n",
        "top_5_location = res.sort_values('counts',ascending=False)['unique_values'].head(5)"
      ]
    },
    {
      "cell_type": "code",
      "execution_count": 28,
      "metadata": {
        "id": "jxbs_xULJUR6"
      },
      "outputs": [],
      "source": [
        "dl=[]\n",
        "for i in df['host_location']:\n",
        "  x = i.split(\",\")\n",
        "  respuesta_l=func(x,top_5_location)\n",
        "  dl.append(respuesta_l)\n",
        "df=df.drop([\"host_location\"],axis=1)\n",
        "df['host_location'] = dl"
      ]
    },
    {
      "cell_type": "code",
      "execution_count": 29,
      "metadata": {
        "id": "1WdrstPQJXOz"
      },
      "outputs": [],
      "source": [
        "df['host_location'] = df['host_location'].astype(\"int64\")"
      ]
    },
    {
      "cell_type": "markdown",
      "metadata": {
        "id": "LnuQLwQkJXnO"
      },
      "source": [
        "*neighbourhood_cleansed*"
      ]
    },
    {
      "cell_type": "code",
      "execution_count": 30,
      "metadata": {
        "id": "KRLeeDdcJbQd"
      },
      "outputs": [],
      "source": [
        "p_neighbourhood=new = df[\"neighbourhood_cleansed\"].str.split(\"-\", expand = True)\n",
        "neighbourhood=pd.DataFrame(p_neighbourhood[0].value_counts().rename_axis('unique_values').reset_index(name='counts'))\n",
        "resultado=neighbourhood.groupby(['unique_values']).sum().reset_index()\n",
        "top_5_neighbourhood = resultado.sort_values('counts',ascending=False)['unique_values'].head(5)"
      ]
    },
    {
      "cell_type": "code",
      "execution_count": 31,
      "metadata": {
        "id": "DU-7EFCaJdPw"
      },
      "outputs": [],
      "source": [
        "dn=[]\n",
        "for i in df['neighbourhood_cleansed']:\n",
        "  x = i.split(\"-\")\n",
        "  respuesta_n=func(x,top_5_neighbourhood)\n",
        "  dn.append(respuesta_n)\n",
        "df=df.drop([\"neighbourhood_cleansed\"],axis=1)\n",
        "df['neighbourhood_cleansed'] = dn"
      ]
    },
    {
      "cell_type": "code",
      "execution_count": 32,
      "metadata": {
        "id": "3W8bIgujJhN2"
      },
      "outputs": [],
      "source": [
        "df['neighbourhood_cleansed'] = df['neighbourhood_cleansed'].astype(\"int64\")"
      ]
    },
    {
      "cell_type": "markdown",
      "metadata": {
        "id": "Po6QpJe4JrF-"
      },
      "source": [
        "*property_type*"
      ]
    },
    {
      "cell_type": "code",
      "execution_count": 33,
      "metadata": {
        "id": "NlyGmwTYJo0e"
      },
      "outputs": [],
      "source": [
        "property_t=pd.DataFrame(df[\"property_type\"].value_counts().rename_axis('unique_values').reset_index(name='counts'))\n",
        "resultado_p=property_t.groupby(['unique_values']).sum().reset_index()\n",
        "top_5_property = resultado_p.sort_values('counts',ascending=False)['unique_values'].head(5)"
      ]
    },
    {
      "cell_type": "code",
      "execution_count": 34,
      "metadata": {
        "id": "7LHRFtvpJu5k"
      },
      "outputs": [],
      "source": [
        "dp=[]\n",
        "for i in df['property_type']:\n",
        "  x = i.split(\"-\")\n",
        "  respuesta_p=func(x,top_5_property)\n",
        "  dp.append(respuesta_p)\n",
        "df=df.drop([\"property_type\"],axis=1)\n",
        "df['property_type'] = dp"
      ]
    },
    {
      "cell_type": "code",
      "execution_count": 35,
      "metadata": {
        "id": "afIs4Pj8JwvN"
      },
      "outputs": [],
      "source": [
        "df['property_type'] = df['property_type'].astype(\"int64\")"
      ]
    },
    {
      "cell_type": "markdown",
      "metadata": {
        "id": "qw9h8Gj9J0oV"
      },
      "source": [
        "*Amenities*"
      ]
    },
    {
      "cell_type": "code",
      "execution_count": 36,
      "metadata": {
        "id": "2KHPWr1KJ5Xp",
        "colab": {
          "base_uri": "https://localhost:8080/"
        },
        "outputId": "d3d730ee-eb4a-4df7-a508-643196808ba4"
      },
      "outputs": [
        {
          "output_type": "stream",
          "name": "stderr",
          "text": [
            "<ipython-input-36-14bebd06e3ba>:1: FutureWarning: The default value of regex will change from True to False in a future version. In addition, single character regular expressions will *not* be treated as literal strings when regex=True.\n",
            "  df.amenities = df.amenities.str.replace('[', '')\n",
            "<ipython-input-36-14bebd06e3ba>:2: FutureWarning: The default value of regex will change from True to False in a future version. In addition, single character regular expressions will *not* be treated as literal strings when regex=True.\n",
            "  df.amenities = df.amenities.str.replace(']', '')\n",
            "<ipython-input-36-14bebd06e3ba>:4: FutureWarning: The default value of regex will change from True to False in a future version. In addition, single character regular expressions will *not* be treated as literal strings when regex=True.\n",
            "  df.amenities = df.amenities.str.replace('.', '')\n"
          ]
        }
      ],
      "source": [
        "df.amenities = df.amenities.str.replace('[', '')\n",
        "df.amenities = df.amenities.str.replace(']', '')\n",
        "df.amenities = df.amenities.str.replace('\"', '')\n",
        "df.amenities = df.amenities.str.replace('.', '')\n",
        "df.amenities = df[\"amenities\"].str.lstrip()\n",
        "df['Amenities']=df[\"amenities\"].apply(lambda x: len(x.split(',')))"
      ]
    },
    {
      "cell_type": "code",
      "execution_count": 37,
      "metadata": {
        "id": "rocuu2_RJ7Sw"
      },
      "outputs": [],
      "source": [
        "df=df.drop([\"amenities\"],axis=1)"
      ]
    },
    {
      "cell_type": "markdown",
      "metadata": {
        "id": "SitINFYtJ9C8"
      },
      "source": [
        "*room_type*"
      ]
    },
    {
      "cell_type": "code",
      "execution_count": 38,
      "metadata": {
        "id": "6P1s99zyJ91u"
      },
      "outputs": [],
      "source": [
        "#Divido entre Private y Share room. Por eso Entire y Hotel room las considero como Private\n",
        "df.loc[df[\"room_type\"]==\"Private room\", \"room_type\"] = 1\n",
        "df.loc[df[\"room_type\"]==\"Entire home/apt\", \"room_type\"] = 1\n",
        "df.loc[df[\"room_type\"]==\"Hotel room\", \"room_type\"] = 1\n",
        "df.loc[df[\"room_type\"]==\"Shared room\", \"room_type\"] = 0\n",
        "df[\"room_type\"]=mean_imputer.fit_transform(df['room_type'].values.reshape(-1,1))\n",
        "df.room_type=df.room_type.astype(\"int64\")"
      ]
    },
    {
      "cell_type": "markdown",
      "metadata": {
        "id": "DVDe9Cx-KKUk"
      },
      "source": [
        "*host_Verification*"
      ]
    },
    {
      "cell_type": "code",
      "execution_count": 39,
      "metadata": {
        "colab": {
          "base_uri": "https://localhost:8080/"
        },
        "id": "mDuuZMQ_KKtV",
        "outputId": "4b9864b0-5823-4372-fb00-af6be732a0b5"
      },
      "outputs": [
        {
          "output_type": "stream",
          "name": "stderr",
          "text": [
            "<ipython-input-39-6034a430ad7f>:1: FutureWarning: The default value of regex will change from True to False in a future version. In addition, single character regular expressions will *not* be treated as literal strings when regex=True.\n",
            "  df.host_verifications = df.host_verifications.str.replace('[', '')\n",
            "<ipython-input-39-6034a430ad7f>:2: FutureWarning: The default value of regex will change from True to False in a future version. In addition, single character regular expressions will *not* be treated as literal strings when regex=True.\n",
            "  df.host_verifications = df.host_verifications.str.replace(']', '')\n"
          ]
        }
      ],
      "source": [
        "df.host_verifications = df.host_verifications.str.replace('[', '')\n",
        "df.host_verifications = df.host_verifications.str.replace(']', '')"
      ]
    },
    {
      "cell_type": "code",
      "execution_count": 40,
      "metadata": {
        "id": "4Z6KXGG6KMg9"
      },
      "outputs": [],
      "source": [
        "email=[]\n",
        "find_word=\"email\"\n",
        "for i in df[\"host_verifications\"]:\n",
        "  if find_word in i:\n",
        "    email.append(1)\n",
        "  else:\n",
        "    email.append(0)"
      ]
    },
    {
      "cell_type": "code",
      "execution_count": 41,
      "metadata": {
        "id": "LQlDBPsiKO_2"
      },
      "outputs": [],
      "source": [
        "phone=[]\n",
        "find_word=\"phone\"\n",
        "for i in df[\"host_verifications\"]:\n",
        "  if find_word in i:\n",
        "    phone.append(1)\n",
        "  else:\n",
        "    phone.append(0)"
      ]
    },
    {
      "cell_type": "code",
      "execution_count": 42,
      "metadata": {
        "id": "_FIHKCKyKRhs"
      },
      "outputs": [],
      "source": [
        "work=[]\n",
        "find_word=\"work_email\"\n",
        "for i in df[\"host_verifications\"]:\n",
        "  if find_word in i:\n",
        "    work.append(1)\n",
        "  else:\n",
        "    work.append(0)"
      ]
    },
    {
      "cell_type": "code",
      "execution_count": 43,
      "metadata": {
        "id": "7R2gkwFrKTiz"
      },
      "outputs": [],
      "source": [
        "df[\"email\"]=email\n",
        "df[\"phone\"]=phone\n",
        "df[\"work_email\"]=work\n",
        "df=df.drop([\"host_verifications\"],axis=1)"
      ]
    },
    {
      "cell_type": "markdown",
      "metadata": {
        "id": "kdlqDP5sKVmb"
      },
      "source": [
        "Paso a fecha las variables: *host_since, calendar_last_scraped, first_review, last_review*"
      ]
    },
    {
      "cell_type": "code",
      "execution_count": 44,
      "metadata": {
        "id": "CC62BMlbKYbb"
      },
      "outputs": [],
      "source": [
        "df['host_since'] = pd.to_datetime(df['host_since'])\n",
        "df['calendar_last_scraped'] = pd.to_datetime(df['calendar_last_scraped'])\n",
        "df['first_review'] = pd.to_datetime(df['first_review'])\n",
        "df['last_review'] = pd.to_datetime(df['last_review'])"
      ]
    },
    {
      "cell_type": "code",
      "execution_count": 45,
      "metadata": {
        "id": "JxH2WBGvKbme"
      },
      "outputs": [],
      "source": [
        "#Una vez que lo tengo en formato fecha, la tranformo en entero\n",
        "df['host_since'] = df['host_since'].dt.strftime('%Y%m%d').astype(\"int64\")\n",
        "df['calendar_last_scraped'] = df['calendar_last_scraped'].dt.strftime('%Y%m%d').astype(\"int64\")\n",
        "df['first_review'] = df['first_review'].dt.strftime('%Y%m%d').astype(\"int64\")\n",
        "df['last_review'] = df['last_review'].dt.strftime('%Y%m%d').astype(\"int64\")"
      ]
    },
    {
      "cell_type": "markdown",
      "metadata": {
        "id": "bpomm6PnKgNY"
      },
      "source": [
        "# **Missings**"
      ]
    },
    {
      "cell_type": "code",
      "execution_count": null,
      "metadata": {
        "id": "76m6OV7J7XvD"
      },
      "outputs": [],
      "source": [
        "sns.heatmap(df.isnull(), cbar=False)"
      ]
    },
    {
      "cell_type": "code",
      "execution_count": 110,
      "metadata": {
        "colab": {
          "base_uri": "https://localhost:8080/"
        },
        "id": "W6N7uAnzKkg2",
        "outputId": "6cfd82fb-df0a-4726-a114-06c386cf88e4"
      },
      "outputs": [
        {
          "output_type": "execute_result",
          "data": {
            "text/plain": [
              "host_id                                         0\n",
              "host_since                                      0\n",
              "host_response_time                              0\n",
              "host_response_rate                              0\n",
              "host_acceptance_rate                            0\n",
              "host_is_superhost                               0\n",
              "host_listings_count                             0\n",
              "host_total_listings_count                       0\n",
              "host_has_profile_pic                            0\n",
              "host_identity_verified                          0\n",
              "latitude                                        0\n",
              "longitude                                       0\n",
              "room_type                                       0\n",
              "accommodates                                    0\n",
              "bathrooms                                       0\n",
              "bedrooms                                        0\n",
              "beds                                            0\n",
              "price                                           0\n",
              "minimum_nights                                  0\n",
              "maximum_nights                                  0\n",
              "minimum_minimum_nights                          0\n",
              "maximum_minimum_nights                          0\n",
              "minimum_maximum_nights                          0\n",
              "maximum_maximum_nights                          0\n",
              "minimum_nights_avg_ntm                          0\n",
              "maximum_nights_avg_ntm                          0\n",
              "has_availability                                0\n",
              "availability_30                                 0\n",
              "availability_60                                 0\n",
              "availability_90                                 0\n",
              "availability_365                                0\n",
              "calendar_last_scraped                           0\n",
              "number_of_reviews                               0\n",
              "number_of_reviews_ltm                           0\n",
              "number_of_reviews_l30d                          0\n",
              "first_review                                    0\n",
              "last_review                                     0\n",
              "review_scores_rating                            0\n",
              "review_scores_accuracy                          0\n",
              "review_scores_cleanliness                       0\n",
              "review_scores_checkin                           0\n",
              "review_scores_communication                     0\n",
              "review_scores_location                          0\n",
              "review_scores_value                             0\n",
              "instant_bookable                                0\n",
              "calculated_host_listings_count                  0\n",
              "calculated_host_listings_count_entire_homes     0\n",
              "calculated_host_listings_count_private_rooms    0\n",
              "calculated_host_listings_count_shared_rooms     0\n",
              "reviews_per_month                               0\n",
              "Source                                          0\n",
              "host_location                                   0\n",
              "neighbourhood_cleansed                          0\n",
              "property_type                                   0\n",
              "Amenities                                       0\n",
              "email                                           0\n",
              "phone                                           0\n",
              "work_email                                      0\n",
              "dtype: int64"
            ]
          },
          "metadata": {},
          "execution_count": 110
        }
      ],
      "source": [
        "missing_values=df.isnull().sum()\n",
        "missing_values"
      ]
    },
    {
      "cell_type": "code",
      "source": [
        "cantidad_missings = df.isna().sum().sum()\n",
        "print(cantidad_missings)"
      ],
      "metadata": {
        "colab": {
          "base_uri": "https://localhost:8080/"
        },
        "id": "wtMYUM980E_B",
        "outputId": "4af43d47-5fe9-4446-8381-d37f4692ff60"
      },
      "execution_count": 48,
      "outputs": [
        {
          "output_type": "stream",
          "name": "stdout",
          "text": [
            "352\n"
          ]
        }
      ]
    },
    {
      "cell_type": "markdown",
      "metadata": {
        "id": "ZtqCInieLY5t"
      },
      "source": [
        "### Variables Numericas"
      ]
    },
    {
      "cell_type": "code",
      "execution_count": 49,
      "metadata": {
        "id": "CNHRiEEvLagf"
      },
      "outputs": [],
      "source": [
        "df[\"host_response_rate\"]=mean_imputer.fit_transform(df['host_response_rate'].values.reshape(-1,1))"
      ]
    },
    {
      "cell_type": "code",
      "execution_count": 50,
      "metadata": {
        "id": "9Qx1qBGKLiXm"
      },
      "outputs": [],
      "source": [
        "df[\"host_acceptance_rate\"]=mean_imputer.fit_transform(df['host_acceptance_rate'].values.reshape(-1,1))"
      ]
    },
    {
      "cell_type": "code",
      "execution_count": 51,
      "metadata": {
        "id": "i-2BZ69lModj"
      },
      "outputs": [],
      "source": [
        "df[\"bathrooms\"]=mean_imputer.fit_transform(df['bathrooms'].values.reshape(-1,1))"
      ]
    },
    {
      "cell_type": "code",
      "execution_count": 52,
      "metadata": {
        "id": "4jzeX7nKMqU0"
      },
      "outputs": [],
      "source": [
        "df[\"bedrooms\"]=mean_imputer.fit_transform(df['bedrooms'].values.reshape(-1,1))"
      ]
    },
    {
      "cell_type": "code",
      "execution_count": 53,
      "metadata": {
        "id": "zHMK8wBrMwz5"
      },
      "outputs": [],
      "source": [
        "df[\"beds\"]=mean_imputer.fit_transform(df['beds'].values.reshape(-1,1))"
      ]
    },
    {
      "cell_type": "code",
      "execution_count": 54,
      "metadata": {
        "id": "EmJDJT7-M1DA"
      },
      "outputs": [],
      "source": [
        "df[\"review_scores_accuracy\"]=mean_imputer.fit_transform(df['review_scores_accuracy'].values.reshape(-1,1))"
      ]
    },
    {
      "cell_type": "code",
      "execution_count": 55,
      "metadata": {
        "id": "aJxVBwLsM6vh"
      },
      "outputs": [],
      "source": [
        "df[\"review_scores_cleanliness\"]=mean_imputer.fit_transform(df['review_scores_cleanliness'].values.reshape(-1,1))"
      ]
    },
    {
      "cell_type": "code",
      "execution_count": 56,
      "metadata": {
        "id": "tvUIbnrHM9ih"
      },
      "outputs": [],
      "source": [
        "df[\"review_scores_checkin\"]=mean_imputer.fit_transform(df['review_scores_checkin'].values.reshape(-1,1))"
      ]
    },
    {
      "cell_type": "code",
      "execution_count": 57,
      "metadata": {
        "id": "7XTGfI1KNAIF"
      },
      "outputs": [],
      "source": [
        "df[\"review_scores_communication\"]=mean_imputer.fit_transform(df['review_scores_communication'].values.reshape(-1,1))"
      ]
    },
    {
      "cell_type": "code",
      "execution_count": 58,
      "metadata": {
        "id": "hUPmldhBNBwd"
      },
      "outputs": [],
      "source": [
        "df[\"review_scores_location\"]=mean_imputer.fit_transform(df['review_scores_location'].values.reshape(-1,1))"
      ]
    },
    {
      "cell_type": "code",
      "execution_count": 59,
      "metadata": {
        "id": "nYV2YCYRNDzs"
      },
      "outputs": [],
      "source": [
        "df[\"review_scores_value\"]=mean_imputer.fit_transform(df['review_scores_value'].values.reshape(-1,1))"
      ]
    },
    {
      "cell_type": "markdown",
      "metadata": {
        "id": "XKNeL6koPHmG"
      },
      "source": [
        "## **Outliers**"
      ]
    },
    {
      "cell_type": "code",
      "execution_count": 60,
      "metadata": {
        "id": "iljQG-RYPKVk"
      },
      "outputs": [],
      "source": [
        "def reemplazar_outliers(df, columna):\n",
        "    media = df[columna].mean()\n",
        "    Q1 = df[columna].quantile(0.25)\n",
        "    Q3 = df[columna].quantile(0.75)\n",
        "    IQR = Q3 - Q1\n",
        "    rango_min = Q1 - 1.5 * IQR\n",
        "    rango_max = Q3 + 1.5 * IQR\n",
        "    df.loc[(df[columna] < rango_min) | (df[columna] > rango_max), columna] = media\n",
        "    return df"
      ]
    },
    {
      "cell_type": "markdown",
      "metadata": {
        "id": "iHGDWRvwyrCd"
      },
      "source": [
        "*Bedrooms*"
      ]
    },
    {
      "cell_type": "code",
      "execution_count": 61,
      "metadata": {
        "id": "rXem6gUEytJ-",
        "colab": {
          "base_uri": "https://localhost:8080/"
        },
        "outputId": "8475df6f-60de-47f6-c2ee-a9bda5aaed38"
      },
      "outputs": [
        {
          "output_type": "execute_result",
          "data": {
            "text/plain": [
              "count    4928.000000\n",
              "mean        1.569966\n",
              "std         0.873005\n",
              "min         1.000000\n",
              "25%         1.000000\n",
              "50%         1.000000\n",
              "75%         2.000000\n",
              "max        10.000000\n",
              "Name: bedrooms, dtype: float64"
            ]
          },
          "metadata": {},
          "execution_count": 61
        }
      ],
      "source": [
        "df['bedrooms'].describe()"
      ]
    },
    {
      "cell_type": "code",
      "execution_count": null,
      "metadata": {
        "id": "9gdT7oNbyvjN"
      },
      "outputs": [],
      "source": [
        "plt.boxplot(df['bedrooms'])"
      ]
    },
    {
      "cell_type": "code",
      "execution_count": 63,
      "metadata": {
        "id": "UJPyb6FNyUY8"
      },
      "outputs": [],
      "source": [
        "df=reemplazar_outliers(df, \"bedrooms\")"
      ]
    },
    {
      "cell_type": "markdown",
      "metadata": {
        "id": "n3nZA6xNy5Sd"
      },
      "source": [
        "*Beds*"
      ]
    },
    {
      "cell_type": "code",
      "execution_count": 64,
      "metadata": {
        "colab": {
          "base_uri": "https://localhost:8080/"
        },
        "id": "SHvu4Zery-WS",
        "outputId": "d476afdb-1bf2-4a8c-cecf-ed8abd7754e1"
      },
      "outputs": [
        {
          "output_type": "execute_result",
          "data": {
            "text/plain": [
              "count    4928.000000\n",
              "mean        1.910045\n",
              "std         1.599656\n",
              "min         1.000000\n",
              "25%         1.000000\n",
              "50%         1.000000\n",
              "75%         2.000000\n",
              "max        33.000000\n",
              "Name: beds, dtype: float64"
            ]
          },
          "metadata": {},
          "execution_count": 64
        }
      ],
      "source": [
        "df['beds'].describe()"
      ]
    },
    {
      "cell_type": "code",
      "execution_count": 65,
      "metadata": {
        "id": "mAbOdaVay-S3",
        "colab": {
          "base_uri": "https://localhost:8080/",
          "height": 576
        },
        "outputId": "6f56eca7-556e-42c9-d7fb-4995ebe50a63"
      },
      "outputs": [
        {
          "output_type": "execute_result",
          "data": {
            "text/plain": [
              "{'whiskers': [<matplotlib.lines.Line2D at 0x7fa5dd2307c0>,\n",
              "  <matplotlib.lines.Line2D at 0x7fa5dd230a60>],\n",
              " 'caps': [<matplotlib.lines.Line2D at 0x7fa5dd230d00>,\n",
              "  <matplotlib.lines.Line2D at 0x7fa5dd230c10>],\n",
              " 'boxes': [<matplotlib.lines.Line2D at 0x7fa5dd230520>],\n",
              " 'medians': [<matplotlib.lines.Line2D at 0x7fa5dd230f70>],\n",
              " 'fliers': [<matplotlib.lines.Line2D at 0x7fa5dd231210>],\n",
              " 'means': []}"
            ]
          },
          "metadata": {},
          "execution_count": 65
        },
        {
          "output_type": "display_data",
          "data": {
            "text/plain": [
              "<Figure size 640x480 with 1 Axes>"
            ],
            "image/png": "[encoded data removed]"
          },
          "metadata": {}
        }
      ],
      "source": [
        "plt.boxplot(df['beds'])"
      ]
    },
    {
      "cell_type": "code",
      "execution_count": 66,
      "metadata": {
        "id": "M5wLGnUazB2_"
      },
      "outputs": [],
      "source": [
        "df=reemplazar_outliers(df, \"beds\")"
      ]
    },
    {
      "cell_type": "markdown",
      "metadata": {
        "id": "yFerLm2MH4dC"
      },
      "source": [
        "*Price*"
      ]
    },
    {
      "cell_type": "code",
      "execution_count": 67,
      "metadata": {
        "colab": {
          "base_uri": "https://localhost:8080/"
        },
        "id": "vsRKa-WiH6H-",
        "outputId": "38f7a919-8da1-4937-90bf-a4299fee4e6d"
      },
      "outputs": [
        {
          "output_type": "execute_result",
          "data": {
            "text/plain": [
              "count     4928.000000\n",
              "mean       220.822646\n",
              "std       1097.823797\n",
              "min          0.000000\n",
              "25%        119.000000\n",
              "50%        166.000000\n",
              "75%        246.000000\n",
              "max      71536.000000\n",
              "Name: price, dtype: float64"
            ]
          },
          "metadata": {},
          "execution_count": 67
        }
      ],
      "source": [
        "df['price'].describe()"
      ]
    },
    {
      "cell_type": "code",
      "execution_count": 68,
      "metadata": {
        "id": "hHFNGhJKH7K6",
        "colab": {
          "base_uri": "https://localhost:8080/",
          "height": 576
        },
        "outputId": "d4cd9335-063d-4936-ebd6-c332eec26824"
      },
      "outputs": [
        {
          "output_type": "execute_result",
          "data": {
            "text/plain": [
              "{'whiskers': [<matplotlib.lines.Line2D at 0x7fa5dd24c1c0>,\n",
              "  <matplotlib.lines.Line2D at 0x7fa5dd24c460>],\n",
              " 'caps': [<matplotlib.lines.Line2D at 0x7fa5dd24c670>,\n",
              "  <matplotlib.lines.Line2D at 0x7fa5dd24c910>],\n",
              " 'boxes': [<matplotlib.lines.Line2D at 0x7fa5dd29bee0>],\n",
              " 'medians': [<matplotlib.lines.Line2D at 0x7fa5dd24cbb0>],\n",
              " 'fliers': [<matplotlib.lines.Line2D at 0x7fa5dd24ce50>],\n",
              " 'means': []}"
            ]
          },
          "metadata": {},
          "execution_count": 68
        },
        {
          "output_type": "display_data",
          "data": {
            "text/plain": [
              "<Figure size 640x480 with 1 Axes>"
            ],
            "image/png": "[encoded data removed]"
          },
          "metadata": {}
        }
      ],
      "source": [
        "plt.boxplot(df['price'])"
      ]
    },
    {
      "cell_type": "code",
      "execution_count": 69,
      "metadata": {
        "id": "xJFF0hybHZV_"
      },
      "outputs": [],
      "source": [
        "df=reemplazar_outliers(df, \"price\")"
      ]
    },
    {
      "cell_type": "code",
      "execution_count": 70,
      "metadata": {
        "id": "bmAhLixrJFi2"
      },
      "outputs": [],
      "source": [
        "df=reemplazar_outliers(df, \"minimum_maximum_nights\")"
      ]
    },
    {
      "cell_type": "code",
      "execution_count": 71,
      "metadata": {
        "id": "_Wr8Q3huJiHl"
      },
      "outputs": [],
      "source": [
        "df=reemplazar_outliers(df, \"maximum_maximum_nights\")"
      ]
    },
    {
      "cell_type": "markdown",
      "metadata": {
        "id": "TXIk7l-zzX9L"
      },
      "source": [
        "# **Separación de Datos**"
      ]
    },
    {
      "cell_type": "code",
      "execution_count": 73,
      "metadata": {
        "id": "k5Be14rdzrVd"
      },
      "outputs": [],
      "source": [
        "X = df.drop(columns=['review_scores_rating'])\n",
        "y = df['review_scores_rating']"
      ]
    },
    {
      "cell_type": "code",
      "execution_count": 74,
      "metadata": {
        "id": "c9LgOlF_zteK"
      },
      "outputs": [],
      "source": [
        "X_train, X_val, y_train, y_val = train_test_split(X, y, test_size=0.20, random_state=33)"
      ]
    },
    {
      "cell_type": "code",
      "execution_count": null,
      "metadata": {
        "id": "k4wOeFWdzyB8"
      },
      "outputs": [],
      "source": [
        "X.columns"
      ]
    },
    {
      "cell_type": "code",
      "execution_count": null,
      "metadata": {
        "id": "9OvKmLpxzz8T"
      },
      "outputs": [],
      "source": [
        "X_val.shape"
      ]
    },
    {
      "cell_type": "markdown",
      "metadata": {
        "id": "C0388YsVz0oA"
      },
      "source": [
        "# **Modelos**"
      ]
    },
    {
      "cell_type": "code",
      "execution_count": null,
      "metadata": {
        "id": "jEj-_KpcKbDn"
      },
      "outputs": [],
      "source": [
        "df.head(5)"
      ]
    },
    {
      "cell_type": "markdown",
      "metadata": {
        "id": "51tHYhFoz3gG"
      },
      "source": [
        "## **Regresión Linear**"
      ]
    },
    {
      "cell_type": "code",
      "execution_count": null,
      "metadata": {
        "id": "JnAIsmmRz6IA"
      },
      "outputs": [],
      "source": [
        "reg = LinearRegression()"
      ]
    },
    {
      "cell_type": "code",
      "execution_count": null,
      "metadata": {
        "id": "72SHNrks0HC3"
      },
      "outputs": [],
      "source": [
        "modelo_lr=reg.fit(X_train,y_train)"
      ]
    },
    {
      "cell_type": "code",
      "execution_count": null,
      "metadata": {
        "colab": {
          "base_uri": "https://localhost:8080/"
        },
        "id": "-OqxRDiK0I3h",
        "outputId": "61c3a8ba-b7fd-491d-e7fb-9760a75c75ee"
      },
      "outputs": [
        {
          "output_type": "stream",
          "name": "stdout",
          "text": [
            "R2 score: 0.727358208247531\n"
          ]
        }
      ],
      "source": [
        "print(\"R2 score:\",reg.score(X_val,y_val))"
      ]
    },
    {
      "cell_type": "markdown",
      "metadata": {
        "id": "6BZ8PpA-Kedv"
      },
      "source": [
        "## **Multiple linear regression**"
      ]
    },
    {
      "cell_type": "code",
      "execution_count": null,
      "metadata": {
        "id": "gW3oVE0VKl-U"
      },
      "outputs": [],
      "source": [
        "mlr = LinearRegression()  \n",
        "mlr.fit(X_train, y_train)"
      ]
    },
    {
      "cell_type": "code",
      "execution_count": null,
      "metadata": {
        "colab": {
          "base_uri": "https://localhost:8080/"
        },
        "id": "6qxhrnG9K4t6",
        "outputId": "c0422299-ef59-4831-c26c-860885fa9871"
      },
      "outputs": [
        {
          "data": {
            "text/plain": [
              "0.49740280323902564"
            ]
          },
          "execution_count": 79,
          "metadata": {},
          "output_type": "execute_result"
        }
      ],
      "source": [
        "y_pred_mlr= mlr.predict(X_val)\n",
        "mlr.score(X_train, y_train)"
      ]
    },
    {
      "cell_type": "markdown",
      "metadata": {
        "id": "UC9_OXbtnfhJ"
      },
      "source": [
        "## **Ridge Regression**"
      ]
    },
    {
      "cell_type": "code",
      "execution_count": null,
      "metadata": {
        "id": "5-9CwdZzqZVo"
      },
      "outputs": [],
      "source": [
        "ridge = Ridge(alpha=1.0)"
      ]
    },
    {
      "cell_type": "code",
      "execution_count": null,
      "metadata": {
        "id": "1LGLT-uDqZ9M"
      },
      "outputs": [],
      "source": [
        "ridge=ridge.fit(X_train, y_train)"
      ]
    },
    {
      "cell_type": "code",
      "execution_count": null,
      "metadata": {
        "colab": {
          "base_uri": "https://localhost:8080/"
        },
        "id": "07fZ_7JCqZtH",
        "outputId": "2d73f861-7bc0-4334-ecaf-6097356f593f"
      },
      "outputs": [
        {
          "name": "stdout",
          "output_type": "stream",
          "text": [
            "R2 score: 0.7277287277152921\n"
          ]
        }
      ],
      "source": [
        "print(\"R2 score:\",ridge.score(X_val,y_val))"
      ]
    },
    {
      "cell_type": "markdown",
      "metadata": {
        "id": "lB30hNLfN9gR"
      },
      "source": [
        "## **Decision Tree Regressor**"
      ]
    },
    {
      "cell_type": "code",
      "execution_count": null,
      "metadata": {
        "id": "AMGSIJq2OAk1"
      },
      "outputs": [],
      "source": [
        "regressor = DecisionTreeRegressor(random_state = 0, max_depth=4)  \n",
        "regressor.fit(X, y) "
      ]
    },
    {
      "cell_type": "code",
      "execution_count": null,
      "metadata": {
        "colab": {
          "base_uri": "https://localhost:8080/"
        },
        "id": "vuv09t5YOcHL",
        "outputId": "9e4dfd60-3a0f-48d5-87ce-b1451361b111"
      },
      "outputs": [
        {
          "name": "stdout",
          "output_type": "stream",
          "text": [
            "R2 score: 0.6978791520942806\n"
          ]
        }
      ],
      "source": [
        "print(\"R2 score:\",regressor.score(X_val, y_val))"
      ]
    },
    {
      "cell_type": "markdown",
      "metadata": {
        "id": "bTRMlK_7Argr"
      },
      "source": [
        "## **RandomForest Regression**"
      ]
    },
    {
      "cell_type": "code",
      "execution_count": null,
      "metadata": {
        "id": "f6bJ0x98IQ03"
      },
      "outputs": [],
      "source": [
        "rf = RandomForestRegressor(n_estimators = 500, max_features = 'auto', max_depth =10, random_state = 25)"
      ]
    },
    {
      "cell_type": "code",
      "execution_count": null,
      "metadata": {
        "id": "v-2ADOF3he8E"
      },
      "outputs": [],
      "source": [
        "rf.fit(X_train, y_train)"
      ]
    },
    {
      "cell_type": "code",
      "execution_count": null,
      "metadata": {
        "colab": {
          "base_uri": "https://localhost:8080/"
        },
        "id": "mHtF0GmmhlYP",
        "outputId": "fd6dd14d-602b-481c-aaf6-664092fa15ea"
      },
      "outputs": [
        {
          "output_type": "stream",
          "name": "stdout",
          "text": [
            "R2 score: 0.7314398971675821\n"
          ]
        }
      ],
      "source": [
        "print(\"R2 score:\",rf.score(X_val,y_val))"
      ]
    },
    {
      "cell_type": "markdown",
      "metadata": {
        "id": "Mtn9v4lapqeA"
      },
      "source": [
        "Grid Search"
      ]
    },
    {
      "cell_type": "code",
      "execution_count": null,
      "metadata": {
        "id": "hbyUuX2Tqb-9"
      },
      "outputs": [],
      "source": [
        "rf_p = RandomForestRegressor()"
      ]
    },
    {
      "cell_type": "code",
      "execution_count": null,
      "metadata": {
        "id": "YwlFnd13qlOS"
      },
      "outputs": [],
      "source": [
        "param_grid = {\n",
        "    'n_estimators': [100, 200,500], \n",
        "    'max_depth': [None, 5, 10], \n",
        "    'min_samples_split': [2, 5, 10], \n",
        "    'min_samples_leaf': [1, 2, 4]  \n",
        "}"
      ]
    },
    {
      "cell_type": "code",
      "execution_count": null,
      "metadata": {
        "id": "lpYJsMKaqpf2"
      },
      "outputs": [],
      "source": [
        "grid_search = GridSearchCV(estimator=rf_p, param_grid=param_grid, cv=5, scoring='neg_mean_squared_error')"
      ]
    },
    {
      "cell_type": "code",
      "execution_count": null,
      "metadata": {
        "id": "XzF0Qzwxqr9Z"
      },
      "outputs": [],
      "source": [
        "grid_search.fit(X_train, y_train)"
      ]
    },
    {
      "cell_type": "code",
      "execution_count": null,
      "metadata": {
        "id": "hFUai80gquVq",
        "colab": {
          "base_uri": "https://localhost:8080/"
        },
        "outputId": "7a7ff322-31df-4238-b63a-882f40dd8159"
      },
      "outputs": [
        {
          "output_type": "stream",
          "name": "stdout",
          "text": [
            "{'max_depth': None, 'min_samples_leaf': 1, 'min_samples_split': 2, 'n_estimators': 200}\n"
          ]
        }
      ],
      "source": [
        "best_params = grid_search.best_params_\n",
        "best_score = grid_search.best_score_"
      ]
    },
    {
      "cell_type": "code",
      "source": [
        "model_rf_grid =RandomForestRegressor(max_depth=None,\n",
        "                                   n_estimators=500, \n",
        "                                   min_samples_split=2,\n",
        "                                   min_samples_leaf=1)\n",
        "modelo_rfgrid=model_rf_grid.fit(X_train, y_train)\n",
        "print(\"R2 score:\",modelo_rfgrid.score(X_val,y_val))"
      ],
      "metadata": {
        "colab": {
          "base_uri": "https://localhost:8080/"
        },
        "id": "MfMUEX4qRXtS",
        "outputId": "4f09a807-7dae-48b5-c82b-bc2c5d6c61ab"
      },
      "execution_count": null,
      "outputs": [
        {
          "output_type": "stream",
          "name": "stdout",
          "text": [
            "R2 score: 0.7319362900379118\n"
          ]
        }
      ]
    },
    {
      "cell_type": "markdown",
      "metadata": {
        "id": "ExoERcwC32tp"
      },
      "source": [
        "Random Search"
      ]
    },
    {
      "cell_type": "code",
      "execution_count": null,
      "metadata": {
        "id": "lrd8izVxatqK"
      },
      "outputs": [],
      "source": [
        "RF_Random = RandomForestRegressor(random_state=35)"
      ]
    },
    {
      "cell_type": "code",
      "execution_count": null,
      "metadata": {
        "id": "2DdKMKZhazxH"
      },
      "outputs": [],
      "source": [
        "n_estimators = [int(x) for x in np.linspace(start = 1, stop = 20, num = 20)]\n",
        "max_features = ['auto', 'sqrt']\n",
        "max_depth = [int(x) for x in np.linspace(10, 120, num = 12)]\n",
        "min_samples_split = [2, 6, 10]\n",
        "min_samples_leaf = [1, 3, 4]\n",
        "bootstrap = [True, False]\n",
        "\n",
        "random_grid = {'n_estimators': n_estimators,\n",
        "'max_features': max_features,\n",
        "'max_depth': max_depth,\n",
        "'min_samples_split': min_samples_split,\n",
        "'min_samples_leaf': min_samples_leaf,\n",
        "'bootstrap': bootstrap}"
      ]
    },
    {
      "cell_type": "code",
      "execution_count": null,
      "metadata": {
        "id": "KhaZNCdga5DF"
      },
      "outputs": [],
      "source": [
        "rf_random = RandomizedSearchCV(estimator = RF_Random,param_distributions = random_grid,n_iter = 100, cv = 5, verbose=2, random_state=35, n_jobs = -1)\n",
        "rf_random.fit(X,y)"
      ]
    },
    {
      "cell_type": "code",
      "execution_count": null,
      "metadata": {
        "id": "056i25EPbDA1"
      },
      "outputs": [],
      "source": [
        "print ('Best Parameters: ', rf_random.best_params_, ' \\n')"
      ]
    },
    {
      "cell_type": "code",
      "execution_count": null,
      "metadata": {
        "id": "PebvICtvbz1X"
      },
      "outputs": [],
      "source": [
        "model_grid = RandomForestRegressor(max_depth=100,\n",
        "                                   max_features='auto',\n",
        "                                   n_estimators=14, \n",
        "                                   min_samples_split=6,\n",
        "                                   min_samples_leaf=1,\n",
        "                                   bootstrap=True)\n",
        "modelo_rfgrid=model_grid.fit(X_train, y_train)\n",
        "print(\"R2 score:\",modelo_rfgrid.score(X_val,y_val))"
      ]
    },
    {
      "cell_type": "markdown",
      "metadata": {
        "id": "P5fyiJaSrqXZ"
      },
      "source": [
        "## **XG Boost**"
      ]
    },
    {
      "cell_type": "code",
      "execution_count": null,
      "metadata": {
        "id": "e4_pKMlrrvDX"
      },
      "outputs": [],
      "source": [
        "XGB=XGBRegressor()"
      ]
    },
    {
      "cell_type": "code",
      "execution_count": null,
      "metadata": {
        "colab": {
          "base_uri": "https://localhost:8080/"
        },
        "id": "naGFBakXsd9X",
        "outputId": "d3c64588-c317-40d4-c94e-70af32bda4bb"
      },
      "outputs": [
        {
          "name": "stdout",
          "output_type": "stream",
          "text": [
            "R2 score: 0.7044916654677903\n"
          ]
        }
      ],
      "source": [
        "XGB = XGB.fit(X_train,y_train)\n",
        "print(\"R2 score:\",XGB.score(X_val, y_val))"
      ]
    },
    {
      "cell_type": "markdown",
      "metadata": {
        "id": "R_cYrZ9CshaD"
      },
      "source": [
        "Grid"
      ]
    },
    {
      "cell_type": "code",
      "execution_count": null,
      "metadata": {
        "id": "VoEK5lYUsi3P"
      },
      "outputs": [],
      "source": [
        "grid_search_params = {\n",
        "    'colsample_bytree': [0.3, 0.7],\n",
        "    'learning_rate': [0.01, 0.1, 0.2, 0.5,0.10,0.12],\n",
        "    'n_estimators': [100,200],\n",
        "    'subsample': [0.2, 0.5, 0.8],\n",
        "    'max_depth': [2, 3, 5,10]\n",
        "}"
      ]
    },
    {
      "cell_type": "code",
      "execution_count": null,
      "metadata": {
        "id": "JjIYxh16s7Gy"
      },
      "outputs": [],
      "source": [
        "xg_grid_reg =XGBRegressor(objective= \"reg:squarederror\")"
      ]
    },
    {
      "cell_type": "code",
      "execution_count": null,
      "metadata": {
        "id": "3PCWUuXZs8bA"
      },
      "outputs": [],
      "source": [
        "grid = GridSearchCV(estimator=xg_grid_reg, param_grid=grid_search_params, scoring='neg_mean_squared_error',\n",
        "                    cv=4, verbose=1)"
      ]
    },
    {
      "cell_type": "code",
      "execution_count": null,
      "metadata": {
        "id": "QPUDulLSs9v7"
      },
      "outputs": [],
      "source": [
        "grid.fit(X_train, y_train)\n",
        "print(\"GridSearchCV\")\n",
        "print(\"Best parameters found: \", grid.best_params_)\n",
        "print(\"Lowest RMSE found: \", np.sqrt(np.abs(grid.best_score_)))"
      ]
    },
    {
      "cell_type": "code",
      "execution_count": null,
      "metadata": {
        "id": "g8j8pZhjtpTj",
        "colab": {
          "base_uri": "https://localhost:8080/"
        },
        "outputId": "2f4c9188-acfb-47e8-8b2c-8a914a0250b8"
      },
      "outputs": [
        {
          "output_type": "stream",
          "name": "stdout",
          "text": [
            "R2 score: 0.7268516080446434\n"
          ]
        }
      ],
      "source": [
        "model_XGgrid = XGBRegressor(colsample_bytree= 0.3,\n",
        "                            learning_rate= 0.1,\n",
        "                            n_estimators= 200,\n",
        "                            subsample= 0.8,\n",
        "                            max_depth= 3)\n",
        "modelo_XGgrid=model_XGgrid.fit(X_train, y_train)\n",
        "print(\"R2 score:\",modelo_XGgrid.score(X_val,y_val))"
      ]
    },
    {
      "cell_type": "markdown",
      "metadata": {
        "id": "E61qVJYLypP3"
      },
      "source": [
        "## **Gradient Boosting Regressor**"
      ]
    },
    {
      "cell_type": "code",
      "execution_count": null,
      "metadata": {
        "id": "WDuQ8g4SytKN"
      },
      "outputs": [],
      "source": [
        "GBR = GradientBoostingRegressor()"
      ]
    },
    {
      "cell_type": "code",
      "execution_count": null,
      "metadata": {
        "id": "Ksbu04-ty3IC"
      },
      "outputs": [],
      "source": [
        "GBR.fit(X_train,y_train)"
      ]
    },
    {
      "cell_type": "code",
      "execution_count": null,
      "metadata": {
        "id": "eW6UQk4xy47n",
        "colab": {
          "base_uri": "https://localhost:8080/"
        },
        "outputId": "1b5f790e-e19b-4db8-d36f-eaa947768688"
      },
      "outputs": [
        {
          "output_type": "stream",
          "name": "stdout",
          "text": [
            "R2 score: 0.7203672205602945\n"
          ]
        }
      ],
      "source": [
        "print(\"R2 score:\",GBR.score(X_val,y_val))"
      ]
    },
    {
      "cell_type": "markdown",
      "metadata": {
        "id": "zKad0W3_y7MT"
      },
      "source": [
        "Grid"
      ]
    },
    {
      "cell_type": "code",
      "execution_count": null,
      "metadata": {
        "id": "f5EHqXqZ3u8L"
      },
      "outputs": [],
      "source": [
        "grid = dict()\n",
        "grid['n_estimators'] = [10, 50, 100,200,500]\n",
        "grid['learning_rate'] = [0.001,0.01, 0.1, 1.0]\n",
        "grid['subsample'] = [0.5, 0.7, 1.0]\n",
        "grid['max_depth'] = [3, 7, 9]"
      ]
    },
    {
      "cell_type": "code",
      "execution_count": null,
      "metadata": {
        "id": "HDqSLD7h33fm"
      },
      "outputs": [],
      "source": [
        "grid_search = GridSearchCV(estimator=GBR, param_grid=grid, n_jobs=-1, cv=4)\n",
        "grid_result = grid_search.fit(X_train, y_train)"
      ]
    },
    {
      "cell_type": "code",
      "execution_count": null,
      "metadata": {
        "id": "C_zGKqaJ4D3_"
      },
      "outputs": [],
      "source": [
        "print(\"Best: %f using %s\" % (grid_result.best_score_, grid_result.best_params_))"
      ]
    },
    {
      "cell_type": "code",
      "execution_count": null,
      "metadata": {
        "colab": {
          "base_uri": "https://localhost:8080/"
        },
        "id": "VP8Ufi_W_UI4",
        "outputId": "51c21015-c7eb-44b3-96e8-88764e95d5e1"
      },
      "outputs": [
        {
          "output_type": "stream",
          "name": "stdout",
          "text": [
            "R2 score: 0.7165445262031838\n"
          ]
        }
      ],
      "source": [
        "model_GBgrid = XGBRegressor(\n",
        "                            learning_rate= 0.01,\n",
        "                            n_estimators= 500,\n",
        "                            subsample= 0.7,\n",
        "                            max_depth= 7)\n",
        "modelo_GBgrid=model_GBgrid.fit(X_train, y_train)\n",
        "print(\"R2 score:\",modelo_GBgrid.score(X_val,y_val))"
      ]
    },
    {
      "cell_type": "markdown",
      "metadata": {
        "id": "IqSWbF5_D7FB"
      },
      "source": [
        "## **LGBM**"
      ]
    },
    {
      "cell_type": "code",
      "execution_count": null,
      "metadata": {
        "id": "5cKT-ICnEA53"
      },
      "outputs": [],
      "source": [
        "LGBM=lgb.LGBMRegressor()"
      ]
    },
    {
      "cell_type": "code",
      "execution_count": null,
      "metadata": {
        "colab": {
          "base_uri": "https://localhost:8080/",
          "height": 74
        },
        "id": "SA42HNRzEFZe",
        "outputId": "1adc91e5-e2ec-4e28-f6a5-99cccea5565b"
      },
      "outputs": [
        {
          "output_type": "execute_result",
          "data": {
            "text/plain": [
              "LGBMRegressor()"
            ],
            "text/html": [
              "<style>#sk-container-id-4 {color: black;background-color: white;}#sk-container-id-4 pre{padding: 0;}#sk-container-id-4 div.sk-toggleable {background-color: white;}#sk-container-id-4 label.sk-toggleable__label {cursor: pointer;display: block;width: 100%;margin-bottom: 0;padding: 0.3em;box-sizing: border-box;text-align: center;}#sk-container-id-4 label.sk-toggleable__label-arrow:before {content: \"▸\";float: left;margin-right: 0.25em;color: #696969;}#sk-container-id-4 label.sk-toggleable__label-arrow:hover:before {color: black;}#sk-container-id-4 div.sk-estimator:hover label.sk-toggleable__label-arrow:before {color: black;}#sk-container-id-4 div.sk-toggleable__content {max-height: 0;max-width: 0;overflow: hidden;text-align: left;background-color: #f0f8ff;}#sk-container-id-4 div.sk-toggleable__content pre {margin: 0.2em;color: black;border-radius: 0.25em;background-color: #f0f8ff;}#sk-container-id-4 input.sk-toggleable__control:checked~div.sk-toggleable__content {max-height: 200px;max-width: 100%;overflow: auto;}#sk-container-id-4 input.sk-toggleable__control:checked~label.sk-toggleable__label-arrow:before {content: \"▾\";}#sk-container-id-4 div.sk-estimator input.sk-toggleable__control:checked~label.sk-toggleable__label {background-color: #d4ebff;}#sk-container-id-4 div.sk-label input.sk-toggleable__control:checked~label.sk-toggleable__label {background-color: #d4ebff;}#sk-container-id-4 input.sk-hidden--visually {border: 0;clip: rect(1px 1px 1px 1px);clip: rect(1px, 1px, 1px, 1px);height: 1px;margin: -1px;overflow: hidden;padding: 0;position: absolute;width: 1px;}#sk-container-id-4 div.sk-estimator {font-family: monospace;background-color: #f0f8ff;border: 1px dotted black;border-radius: 0.25em;box-sizing: border-box;margin-bottom: 0.5em;}#sk-container-id-4 div.sk-estimator:hover {background-color: #d4ebff;}#sk-container-id-4 div.sk-parallel-item::after {content: \"\";width: 100%;border-bottom: 1px solid gray;flex-grow: 1;}#sk-container-id-4 div.sk-label:hover label.sk-toggleable__label {background-color: #d4ebff;}#sk-container-id-4 div.sk-serial::before {content: \"\";position: absolute;border-left: 1px solid gray;box-sizing: border-box;top: 0;bottom: 0;left: 50%;z-index: 0;}#sk-container-id-4 div.sk-serial {display: flex;flex-direction: column;align-items: center;background-color: white;padding-right: 0.2em;padding-left: 0.2em;position: relative;}#sk-container-id-4 div.sk-item {position: relative;z-index: 1;}#sk-container-id-4 div.sk-parallel {display: flex;align-items: stretch;justify-content: center;background-color: white;position: relative;}#sk-container-id-4 div.sk-item::before, #sk-container-id-4 div.sk-parallel-item::before {content: \"\";position: absolute;border-left: 1px solid gray;box-sizing: border-box;top: 0;bottom: 0;left: 50%;z-index: -1;}#sk-container-id-4 div.sk-parallel-item {display: flex;flex-direction: column;z-index: 1;position: relative;background-color: white;}#sk-container-id-4 div.sk-parallel-item:first-child::after {align-self: flex-end;width: 50%;}#sk-container-id-4 div.sk-parallel-item:last-child::after {align-self: flex-start;width: 50%;}#sk-container-id-4 div.sk-parallel-item:only-child::after {width: 0;}#sk-container-id-4 div.sk-dashed-wrapped {border: 1px dashed gray;margin: 0 0.4em 0.5em 0.4em;box-sizing: border-box;padding-bottom: 0.4em;background-color: white;}#sk-container-id-4 div.sk-label label {font-family: monospace;font-weight: bold;display: inline-block;line-height: 1.2em;}#sk-container-id-4 div.sk-label-container {text-align: center;}#sk-container-id-4 div.sk-container {/* jupyter's `normalize.less` sets `[hidden] { display: none; }` but bootstrap.min.css set `[hidden] { display: none !important; }` so we also need the `!important` here to be able to override the default hidden behavior on the sphinx rendered scikit-learn.org. See: https://github.com/scikit-learn/scikit-learn/issues/21755 */display: inline-block !important;position: relative;}#sk-container-id-4 div.sk-text-repr-fallback {display: none;}</style><div id=\"sk-container-id-4\" class=\"sk-top-container\"><div class=\"sk-text-repr-fallback\"><pre>LGBMRegressor()</pre><b>In a Jupyter environment, please rerun this cell to show the HTML representation or trust the notebook. <br />On GitHub, the HTML representation is unable to render, please try loading this page with nbviewer.org.</b></div><div class=\"sk-container\" hidden><div class=\"sk-item\"><div class=\"sk-estimator sk-toggleable\"><input class=\"sk-toggleable__control sk-hidden--visually\" id=\"sk-estimator-id-6\" type=\"checkbox\" checked><label for=\"sk-estimator-id-6\" class=\"sk-toggleable__label sk-toggleable__label-arrow\">LGBMRegressor</label><div class=\"sk-toggleable__content\"><pre>LGBMRegressor()</pre></div></div></div></div></div>"
            ]
          },
          "metadata": {},
          "execution_count": 215
        }
      ],
      "source": [
        "LGBM.fit(X_train,y_train)"
      ]
    },
    {
      "cell_type": "code",
      "execution_count": null,
      "metadata": {
        "colab": {
          "base_uri": "https://localhost:8080/"
        },
        "id": "S49jMVd7EG2g",
        "outputId": "37de3666-ddae-4af6-e080-5577f9ceae14"
      },
      "outputs": [
        {
          "output_type": "stream",
          "name": "stdout",
          "text": [
            "R2 score: 0.662649248720504\n"
          ]
        }
      ],
      "source": [
        "print(\"R2 score:\",LGBM.score(X_val,y_val))"
      ]
    },
    {
      "cell_type": "markdown",
      "metadata": {
        "id": "h_4gKfxRiYQP"
      },
      "source": [
        "## **CatBoost**"
      ]
    },
    {
      "cell_type": "code",
      "execution_count": 75,
      "metadata": {
        "id": "kKKccQ5PibHm"
      },
      "outputs": [],
      "source": [
        "train_dataset = cb.Pool(X_train, y_train) \n",
        "test_dataset = cb.Pool(X_val, y_val)"
      ]
    },
    {
      "cell_type": "code",
      "execution_count": 76,
      "metadata": {
        "id": "59S4M44XiiwE"
      },
      "outputs": [],
      "source": [
        "model_CB = cb.CatBoostRegressor(loss_function=\"RMSE\")"
      ]
    },
    {
      "cell_type": "code",
      "execution_count": null,
      "metadata": {
        "id": "wKcOqW-Kiudv"
      },
      "outputs": [],
      "source": [
        "grid = {'iterations': [100, 150, 200,500],\n",
        "        'learning_rate': [0.03, 0.01,0.1],\n",
        "        'depth': [2, 4, 6, 8],\n",
        "        'l2_leaf_reg': [0.2, 0.5, 1, 3]}\n",
        "model_CB.grid_search(grid, train_dataset)"
      ]
    },
    {
      "cell_type": "code",
      "source": [
        "best_params = model_CB.get_params()"
      ],
      "metadata": {
        "id": "dhYG4VY_MnQB"
      },
      "execution_count": null,
      "outputs": []
    },
    {
      "cell_type": "code",
      "source": [
        "print(\"\\n Best parameters:\\n\",best_params)"
      ],
      "metadata": {
        "id": "Sd27gvR2Lbo3"
      },
      "execution_count": null,
      "outputs": []
    },
    {
      "cell_type": "code",
      "source": [
        "model_CBgrid = cb.CatBoostRegressor(\n",
        "                            depth= 4,\n",
        "                            iterations= 150,\n",
        "                            l2_leaf_reg= 0.5,\n",
        "                            learning_rate= 0.1)\n",
        "modelo_CBgrid=model_CBgrid.fit(X_train, y_train)\n",
        "print(\"R2 score:\",modelo_CBgrid.score(X_val,y_val))"
      ],
      "metadata": {
        "id": "knfiRByHLjx6"
      },
      "execution_count": null,
      "outputs": []
    },
    {
      "cell_type": "code",
      "execution_count": null,
      "metadata": {
        "colab": {
          "base_uri": "https://localhost:8080/"
        },
        "id": "n4ORopBWkV1z",
        "outputId": "6833cc60-54bb-4605-c6e9-ce99b2fee9f9"
      },
      "outputs": [
        {
          "output_type": "stream",
          "name": "stdout",
          "text": [
            "Testing performance\n",
            "RMSE: 0.11\n",
            "R2: 0.73\n"
          ]
        }
      ],
      "source": [
        "pred = model_CB.predict(X_val)\n",
        "rmse = (np.sqrt(mean_squared_error(y_val, pred)))\n",
        "r2 = r2_score(y_val, pred)\n",
        "print(\"Testing performance\")\n",
        "print(\"RMSE: {:.2f}\".format(rmse))\n",
        "print(\"R2: {:.2f}\".format(r2))"
      ]
    },
    {
      "cell_type": "markdown",
      "metadata": {
        "id": "JxSlevLFWGpX"
      },
      "source": [
        "# **Salida**"
      ]
    },
    {
      "cell_type": "markdown",
      "metadata": {
        "id": "PYdDTWLdWKEI"
      },
      "source": [
        "## **Carga de Datos**"
      ]
    },
    {
      "cell_type": "code",
      "execution_count": 78,
      "metadata": {
        "id": "Za29qqwdWMhO"
      },
      "outputs": [],
      "source": [
        "test=pd.read_csv(\"base_val.csv\", sep=\",\")"
      ]
    },
    {
      "cell_type": "code",
      "execution_count": 79,
      "metadata": {
        "id": "4XoKKr4SWIWS"
      },
      "outputs": [],
      "source": [
        "test_t=pd.DataFrame()"
      ]
    },
    {
      "cell_type": "code",
      "execution_count": 80,
      "metadata": {
        "id": "MbbpWgL-WQfV"
      },
      "outputs": [],
      "source": [
        "test_t=test"
      ]
    },
    {
      "cell_type": "code",
      "execution_count": null,
      "metadata": {
        "id": "1xU_y0ibkl4U"
      },
      "outputs": [],
      "source": [
        "test_t.describe().T"
      ]
    },
    {
      "cell_type": "markdown",
      "metadata": {
        "id": "mY8YC6MjWT8G"
      },
      "source": [
        "## **Variables Numericas**"
      ]
    },
    {
      "cell_type": "markdown",
      "metadata": {
        "id": "vYwW3IslWbw0"
      },
      "source": [
        "### Id, Neighbourhood group , Calendar"
      ]
    },
    {
      "cell_type": "code",
      "execution_count": 81,
      "metadata": {
        "id": "Ddc5w4deWWYA"
      },
      "outputs": [],
      "source": [
        "test_t=test_t.drop([\"id\",\"neighbourhood_group_cleansed\", \"calendar_updated\"], axis=1)"
      ]
    },
    {
      "cell_type": "markdown",
      "metadata": {
        "id": "0KKOeBU4Wi9u"
      },
      "source": [
        "### Convierto a 0 o 1 las variables T o F"
      ]
    },
    {
      "cell_type": "code",
      "execution_count": 82,
      "metadata": {
        "id": "BFgZsPPNWrxr"
      },
      "outputs": [],
      "source": [
        "test_t.loc[test_t[\"instant_bookable\"]==\"f\", \"instant_bookable\"] = 0\n",
        "test_t.loc[test_t[\"instant_bookable\"]==\"t\", \"instant_bookable\"] = 1\n",
        "test_t.loc[test_t[\"host_has_profile_pic\"]==\"f\", \"host_has_profile_pic\"] = 0\n",
        "test_t.loc[test_t[\"host_has_profile_pic\"]==\"t\", \"host_has_profile_pic\"] = 1\n",
        "test_t.loc[test_t[\"host_identity_verified\"]==\"f\", \"host_identity_verified\"] = 0\n",
        "test_t.loc[test_t[\"host_identity_verified\"]==\"t\", \"host_identity_verified\"] = 1\n",
        "test_t.loc[test_t[\"host_is_superhost\"]==\"f\", \"host_is_superhost\"] = 0\n",
        "test_t.loc[test_t[\"host_is_superhost\"]==\"t\", \"host_is_superhost\"] = 1\n",
        "test_t.loc[test_t[\"has_availability\"]==\"f\", \"has_availability\"] = 0\n",
        "test_t.loc[test_t[\"has_availability\"]==\"t\", \"has_availability\"] = 1"
      ]
    },
    {
      "cell_type": "code",
      "execution_count": 83,
      "metadata": {
        "id": "Xjed4S6uWruz"
      },
      "outputs": [],
      "source": [
        "test_t = test_t.astype({'instant_bookable':'int64', 'host_has_profile_pic':'int64','host_identity_verified':'int64','host_is_superhost':'int64','has_availability':'int64'})"
      ]
    },
    {
      "cell_type": "markdown",
      "metadata": {
        "id": "ybjCtcqwXFBw"
      },
      "source": [
        "### Variable Price"
      ]
    },
    {
      "cell_type": "code",
      "execution_count": 84,
      "metadata": {
        "colab": {
          "base_uri": "https://localhost:8080/"
        },
        "id": "R_tcwbHTWrr9",
        "outputId": "c696a328-e7fa-4024-a6e1-dc5207edee64"
      },
      "outputs": [
        {
          "output_type": "stream",
          "name": "stderr",
          "text": [
            "<ipython-input-84-6c09251c5ce9>:2: FutureWarning: The default value of regex will change from True to False in a future version. In addition, single character regular expressions will *not* be treated as literal strings when regex=True.\n",
            "  test_t.price = test_t.price.str.replace('$', '')\n"
          ]
        }
      ],
      "source": [
        "# Remuevo $ y , de la variable\n",
        "test_t.price = test_t.price.str.replace('$', '')\n",
        "test_t.price = test_t.price.str.replace(',', '')\n",
        "test_t.price = test_t.price.astype(float)\n",
        "\n",
        "# convierto a int\n",
        "test_t.price = pd.to_numeric(test_t.price, errors='coerce')"
      ]
    },
    {
      "cell_type": "markdown",
      "metadata": {
        "id": "8g3sB8pkXQqF"
      },
      "source": [
        "###Response rate y Acceptance Rate"
      ]
    },
    {
      "cell_type": "code",
      "execution_count": 85,
      "metadata": {
        "id": "tsjrwM4PXTEo"
      },
      "outputs": [],
      "source": [
        "test_t.host_response_rate = test_t.host_response_rate.str.replace('%', '')\n",
        "test_t[\"host_response_rate\"]=mean_imputer.fit_transform(test_t['host_response_rate'].values.reshape(-1,1))\n",
        "test_t.host_acceptance_rate = test_t.host_acceptance_rate.str.replace('%', '')\n",
        "test_t[\"host_acceptance_rate\"]=mean_imputer.fit_transform(test_t['host_acceptance_rate'].values.reshape(-1,1))\n",
        "test_t = test_t.astype({'host_response_rate':'int64', 'host_acceptance_rate':'int64'})"
      ]
    },
    {
      "cell_type": "markdown",
      "metadata": {
        "id": "1av4x9qHXmdX"
      },
      "source": [
        "### Bathroom"
      ]
    },
    {
      "cell_type": "code",
      "execution_count": 86,
      "metadata": {
        "id": "kNp_Rv7cWrm5"
      },
      "outputs": [],
      "source": [
        "test_t['bathrooms_numeric'] = test_t['bathrooms_text'].str.extract('(\\d+\\.\\d+)', expand=False)\n",
        "test_t[\"bathrooms\"]=test_t['bathrooms_numeric']\n",
        "test_t=test_t.drop([\"bathrooms_numeric\"], axis=1)\n",
        "test_t.loc[test_t[\"bathrooms\"].isnull()==True, \"bathrooms\"] =test_t['bathrooms_text'].str.extract('(\\d)', expand=False)\n",
        "test_t.bathrooms =test_t.bathrooms.astype(float)"
      ]
    },
    {
      "cell_type": "markdown",
      "metadata": {
        "id": "7JgJPDXzXuzG"
      },
      "source": [
        "## Variables Categoricas"
      ]
    },
    {
      "cell_type": "code",
      "execution_count": 87,
      "metadata": {
        "id": "8FdbA1yVX0ea"
      },
      "outputs": [],
      "source": [
        "test_t=test_t.drop([\"name\",\"description\", \"neighborhood_overview\",\"host_name\", \"host_about\", \"host_neighbourhood\", \"neighbourhood\",\"bathrooms_text\", \"license\" ], axis=1)"
      ]
    },
    {
      "cell_type": "markdown",
      "metadata": {
        "id": "CIZXcOWyX6Pj"
      },
      "source": [
        "*Source*"
      ]
    },
    {
      "cell_type": "code",
      "execution_count": 88,
      "metadata": {
        "id": "qU5b1_gaWoKq"
      },
      "outputs": [],
      "source": [
        "source_nueva=pd.get_dummies(test_t[\"source\"],prefix=\"source\")\n",
        "source_nueva=source_nueva.drop([\"source_previous scrape\"],axis=1)\n",
        "test_t=test_t.drop([\"source\"],axis=1)\n",
        "test_t[\"Source\"]=source_nueva"
      ]
    },
    {
      "cell_type": "markdown",
      "metadata": {
        "id": "itqD1AYuX8ne"
      },
      "source": [
        "*Response Time*"
      ]
    },
    {
      "cell_type": "code",
      "execution_count": 89,
      "metadata": {
        "id": "USVNBs7VYNwx",
        "colab": {
          "base_uri": "https://localhost:8080/",
          "height": 0
        },
        "outputId": "15300c04-5263-4a84-83a0-0de7f599575d"
      },
      "outputs": [
        {
          "output_type": "execute_result",
          "data": {
            "text/plain": [
              "        host_id  host_since           host_location  host_response_time  \\\n",
              "0       3842476  2012-10-11        Lisbon, Portugal                   4   \n",
              "1      45419738  2015-09-30  Amsterdam, Netherlands                   1   \n",
              "2     205620290  2018-07-28  Amsterdam, Netherlands                   4   \n",
              "3      73798820  2016-05-24  Amsterdam, Netherlands                   4   \n",
              "4     425744204  2021-10-03                     NaN                   2   \n",
              "...         ...         ...                     ...                 ...   \n",
              "1228    4184910  2012-11-18  Amsterdam, Netherlands                   4   \n",
              "1229    4215174  2012-11-22  Amsterdam, Netherlands                   4   \n",
              "1230    1657181  2012-01-26  Amsterdam, Netherlands                   1   \n",
              "1231    4221960  2012-11-23  Amsterdam, Netherlands                   1   \n",
              "1232    4239235  2012-11-25  Amsterdam, Netherlands                   4   \n",
              "\n",
              "      host_response_rate  host_acceptance_rate  host_is_superhost  \\\n",
              "0                     95                   100                  0   \n",
              "1                    100                    89                  0   \n",
              "2                     60                    47                  0   \n",
              "3                     95                   100                  0   \n",
              "4                    100                    42                  0   \n",
              "...                  ...                   ...                ...   \n",
              "1228                  80                    88                  1   \n",
              "1229                 100                     0                  0   \n",
              "1230                 100                    83                  0   \n",
              "1231                 100                    99                  1   \n",
              "1232                  95                    50                  0   \n",
              "\n",
              "      host_listings_count  host_total_listings_count  \\\n",
              "0                       1                          2   \n",
              "1                       1                          1   \n",
              "2                       1                          2   \n",
              "3                       1                          2   \n",
              "4                       1                          1   \n",
              "...                   ...                        ...   \n",
              "1228                    1                          1   \n",
              "1229                    1                          1   \n",
              "1230                    1                          2   \n",
              "1231                    1                          1   \n",
              "1232                    1                          5   \n",
              "\n",
              "                    host_verifications  ...  review_scores_communication  \\\n",
              "0                   ['email', 'phone']  ...                         5.00   \n",
              "1                   ['email', 'phone']  ...                         5.00   \n",
              "2                   ['email', 'phone']  ...                         5.00   \n",
              "3                   ['email', 'phone']  ...                         5.00   \n",
              "4                            ['phone']  ...                         5.00   \n",
              "...                                ...  ...                          ...   \n",
              "1228                ['email', 'phone']  ...                         4.71   \n",
              "1229                ['email', 'phone']  ...                         5.00   \n",
              "1230  ['email', 'phone', 'work_email']  ...                         4.71   \n",
              "1231                ['email', 'phone']  ...                         4.97   \n",
              "1232                ['email', 'phone']  ...                         5.00   \n",
              "\n",
              "      review_scores_location review_scores_value  instant_bookable  \\\n",
              "0                       5.00                5.00                 1   \n",
              "1                       4.83                4.67                 0   \n",
              "2                       3.50                3.75                 0   \n",
              "3                       5.00                5.00                 1   \n",
              "4                       4.83                5.00                 0   \n",
              "...                      ...                 ...               ...   \n",
              "1228                    4.93                4.59                 0   \n",
              "1229                    4.67                4.50                 0   \n",
              "1230                    4.76                4.41                 0   \n",
              "1231                    4.92                4.81                 0   \n",
              "1232                    4.76                4.76                 0   \n",
              "\n",
              "      calculated_host_listings_count  \\\n",
              "0                                  1   \n",
              "1                                  1   \n",
              "2                                  1   \n",
              "3                                  1   \n",
              "4                                  1   \n",
              "...                              ...   \n",
              "1228                               1   \n",
              "1229                               1   \n",
              "1230                               1   \n",
              "1231                               1   \n",
              "1232                               1   \n",
              "\n",
              "     calculated_host_listings_count_entire_homes  \\\n",
              "0                                              1   \n",
              "1                                              1   \n",
              "2                                              1   \n",
              "3                                              1   \n",
              "4                                              1   \n",
              "...                                          ...   \n",
              "1228                                           0   \n",
              "1229                                           1   \n",
              "1230                                           1   \n",
              "1231                                           0   \n",
              "1232                                           1   \n",
              "\n",
              "     calculated_host_listings_count_private_rooms  \\\n",
              "0                                               0   \n",
              "1                                               0   \n",
              "2                                               0   \n",
              "3                                               0   \n",
              "4                                               0   \n",
              "...                                           ...   \n",
              "1228                                            1   \n",
              "1229                                            0   \n",
              "1230                                            0   \n",
              "1231                                            1   \n",
              "1232                                            0   \n",
              "\n",
              "      calculated_host_listings_count_shared_rooms  reviews_per_month  Source  \n",
              "0                                               0               0.39       0  \n",
              "1                                               0               0.71       0  \n",
              "2                                               0               0.59       1  \n",
              "3                                               0               0.37       0  \n",
              "4                                               0               1.06       1  \n",
              "...                                           ...                ...     ...  \n",
              "1228                                            0               2.88       1  \n",
              "1229                                            0               0.15       1  \n",
              "1230                                            0               0.83       0  \n",
              "1231                                            0               8.69       1  \n",
              "1232                                            0               0.14       1  \n",
              "\n",
              "[1233 rows x 55 columns]"
            ],
            "text/html": [
              "\n",
              "  <div id=\"df-312ae5d8-6f6b-4f29-b19a-1e32818dcf92\">\n",
              "    <div class=\"colab-df-container\">\n",
              "      <div>\n",
              "<style scoped>\n",
              "    .dataframe tbody tr th:only-of-type {\n",
              "        vertical-align: middle;\n",
              "    }\n",
              "\n",
              "    .dataframe tbody tr th {\n",
              "        vertical-align: top;\n",
              "    }\n",
              "\n",
              "    .dataframe thead th {\n",
              "        text-align: right;\n",
              "    }\n",
              "</style>\n",
              "<table border=\"1\" class=\"dataframe\">\n",
              "  <thead>\n",
              "    <tr style=\"text-align: right;\">\n",
              "      <th></th>\n",
              "      <th>host_id</th>\n",
              "      <th>host_since</th>\n",
              "      <th>host_location</th>\n",
              "      <th>host_response_time</th>\n",
              "      <th>host_response_rate</th>\n",
              "      <th>host_acceptance_rate</th>\n",
              "      <th>host_is_superhost</th>\n",
              "      <th>host_listings_count</th>\n",
              "      <th>host_total_listings_count</th>\n",
              "      <th>host_verifications</th>\n",
              "      <th>...</th>\n",
              "      <th>review_scores_communication</th>\n",
              "      <th>review_scores_location</th>\n",
              "      <th>review_scores_value</th>\n",
              "      <th>instant_bookable</th>\n",
              "      <th>calculated_host_listings_count</th>\n",
              "      <th>calculated_host_listings_count_entire_homes</th>\n",
              "      <th>calculated_host_listings_count_private_rooms</th>\n",
              "      <th>calculated_host_listings_count_shared_rooms</th>\n",
              "      <th>reviews_per_month</th>\n",
              "      <th>Source</th>\n",
              "    </tr>\n",
              "  </thead>\n",
              "  <tbody>\n",
              "    <tr>\n",
              "      <th>0</th>\n",
              "      <td>3842476</td>\n",
              "      <td>2012-10-11</td>\n",
              "      <td>Lisbon, Portugal</td>\n",
              "      <td>4</td>\n",
              "      <td>95</td>\n",
              "      <td>100</td>\n",
              "      <td>0</td>\n",
              "      <td>1</td>\n",
              "      <td>2</td>\n",
              "      <td>['email', 'phone']</td>\n",
              "      <td>...</td>\n",
              "      <td>5.00</td>\n",
              "      <td>5.00</td>\n",
              "      <td>5.00</td>\n",
              "      <td>1</td>\n",
              "      <td>1</td>\n",
              "      <td>1</td>\n",
              "      <td>0</td>\n",
              "      <td>0</td>\n",
              "      <td>0.39</td>\n",
              "      <td>0</td>\n",
              "    </tr>\n",
              "    <tr>\n",
              "      <th>1</th>\n",
              "      <td>45419738</td>\n",
              "      <td>2015-09-30</td>\n",
              "      <td>Amsterdam, Netherlands</td>\n",
              "      <td>1</td>\n",
              "      <td>100</td>\n",
              "      <td>89</td>\n",
              "      <td>0</td>\n",
              "      <td>1</td>\n",
              "      <td>1</td>\n",
              "      <td>['email', 'phone']</td>\n",
              "      <td>...</td>\n",
              "      <td>5.00</td>\n",
              "      <td>4.83</td>\n",
              "      <td>4.67</td>\n",
              "      <td>0</td>\n",
              "      <td>1</td>\n",
              "      <td>1</td>\n",
              "      <td>0</td>\n",
              "      <td>0</td>\n",
              "      <td>0.71</td>\n",
              "      <td>0</td>\n",
              "    </tr>\n",
              "    <tr>\n",
              "      <th>2</th>\n",
              "      <td>205620290</td>\n",
              "      <td>2018-07-28</td>\n",
              "      <td>Amsterdam, Netherlands</td>\n",
              "      <td>4</td>\n",
              "      <td>60</td>\n",
              "      <td>47</td>\n",
              "      <td>0</td>\n",
              "      <td>1</td>\n",
              "      <td>2</td>\n",
              "      <td>['email', 'phone']</td>\n",
              "      <td>...</td>\n",
              "      <td>5.00</td>\n",
              "      <td>3.50</td>\n",
              "      <td>3.75</td>\n",
              "      <td>0</td>\n",
              "      <td>1</td>\n",
              "      <td>1</td>\n",
              "      <td>0</td>\n",
              "      <td>0</td>\n",
              "      <td>0.59</td>\n",
              "      <td>1</td>\n",
              "    </tr>\n",
              "    <tr>\n",
              "      <th>3</th>\n",
              "      <td>73798820</td>\n",
              "      <td>2016-05-24</td>\n",
              "      <td>Amsterdam, Netherlands</td>\n",
              "      <td>4</td>\n",
              "      <td>95</td>\n",
              "      <td>100</td>\n",
              "      <td>0</td>\n",
              "      <td>1</td>\n",
              "      <td>2</td>\n",
              "      <td>['email', 'phone']</td>\n",
              "      <td>...</td>\n",
              "      <td>5.00</td>\n",
              "      <td>5.00</td>\n",
              "      <td>5.00</td>\n",
              "      <td>1</td>\n",
              "      <td>1</td>\n",
              "      <td>1</td>\n",
              "      <td>0</td>\n",
              "      <td>0</td>\n",
              "      <td>0.37</td>\n",
              "      <td>0</td>\n",
              "    </tr>\n",
              "    <tr>\n",
              "      <th>4</th>\n",
              "      <td>425744204</td>\n",
              "      <td>2021-10-03</td>\n",
              "      <td>NaN</td>\n",
              "      <td>2</td>\n",
              "      <td>100</td>\n",
              "      <td>42</td>\n",
              "      <td>0</td>\n",
              "      <td>1</td>\n",
              "      <td>1</td>\n",
              "      <td>['phone']</td>\n",
              "      <td>...</td>\n",
              "      <td>5.00</td>\n",
              "      <td>4.83</td>\n",
              "      <td>5.00</td>\n",
              "      <td>0</td>\n",
              "      <td>1</td>\n",
              "      <td>1</td>\n",
              "      <td>0</td>\n",
              "      <td>0</td>\n",
              "      <td>1.06</td>\n",
              "      <td>1</td>\n",
              "    </tr>\n",
              "    <tr>\n",
              "      <th>...</th>\n",
              "      <td>...</td>\n",
              "      <td>...</td>\n",
              "      <td>...</td>\n",
              "      <td>...</td>\n",
              "      <td>...</td>\n",
              "      <td>...</td>\n",
              "      <td>...</td>\n",
              "      <td>...</td>\n",
              "      <td>...</td>\n",
              "      <td>...</td>\n",
              "      <td>...</td>\n",
              "      <td>...</td>\n",
              "      <td>...</td>\n",
              "      <td>...</td>\n",
              "      <td>...</td>\n",
              "      <td>...</td>\n",
              "      <td>...</td>\n",
              "      <td>...</td>\n",
              "      <td>...</td>\n",
              "      <td>...</td>\n",
              "      <td>...</td>\n",
              "    </tr>\n",
              "    <tr>\n",
              "      <th>1228</th>\n",
              "      <td>4184910</td>\n",
              "      <td>2012-11-18</td>\n",
              "      <td>Amsterdam, Netherlands</td>\n",
              "      <td>4</td>\n",
              "      <td>80</td>\n",
              "      <td>88</td>\n",
              "      <td>1</td>\n",
              "      <td>1</td>\n",
              "      <td>1</td>\n",
              "      <td>['email', 'phone']</td>\n",
              "      <td>...</td>\n",
              "      <td>4.71</td>\n",
              "      <td>4.93</td>\n",
              "      <td>4.59</td>\n",
              "      <td>0</td>\n",
              "      <td>1</td>\n",
              "      <td>0</td>\n",
              "      <td>1</td>\n",
              "      <td>0</td>\n",
              "      <td>2.88</td>\n",
              "      <td>1</td>\n",
              "    </tr>\n",
              "    <tr>\n",
              "      <th>1229</th>\n",
              "      <td>4215174</td>\n",
              "      <td>2012-11-22</td>\n",
              "      <td>Amsterdam, Netherlands</td>\n",
              "      <td>4</td>\n",
              "      <td>100</td>\n",
              "      <td>0</td>\n",
              "      <td>0</td>\n",
              "      <td>1</td>\n",
              "      <td>1</td>\n",
              "      <td>['email', 'phone']</td>\n",
              "      <td>...</td>\n",
              "      <td>5.00</td>\n",
              "      <td>4.67</td>\n",
              "      <td>4.50</td>\n",
              "      <td>0</td>\n",
              "      <td>1</td>\n",
              "      <td>1</td>\n",
              "      <td>0</td>\n",
              "      <td>0</td>\n",
              "      <td>0.15</td>\n",
              "      <td>1</td>\n",
              "    </tr>\n",
              "    <tr>\n",
              "      <th>1230</th>\n",
              "      <td>1657181</td>\n",
              "      <td>2012-01-26</td>\n",
              "      <td>Amsterdam, Netherlands</td>\n",
              "      <td>1</td>\n",
              "      <td>100</td>\n",
              "      <td>83</td>\n",
              "      <td>0</td>\n",
              "      <td>1</td>\n",
              "      <td>2</td>\n",
              "      <td>['email', 'phone', 'work_email']</td>\n",
              "      <td>...</td>\n",
              "      <td>4.71</td>\n",
              "      <td>4.76</td>\n",
              "      <td>4.41</td>\n",
              "      <td>0</td>\n",
              "      <td>1</td>\n",
              "      <td>1</td>\n",
              "      <td>0</td>\n",
              "      <td>0</td>\n",
              "      <td>0.83</td>\n",
              "      <td>0</td>\n",
              "    </tr>\n",
              "    <tr>\n",
              "      <th>1231</th>\n",
              "      <td>4221960</td>\n",
              "      <td>2012-11-23</td>\n",
              "      <td>Amsterdam, Netherlands</td>\n",
              "      <td>1</td>\n",
              "      <td>100</td>\n",
              "      <td>99</td>\n",
              "      <td>1</td>\n",
              "      <td>1</td>\n",
              "      <td>1</td>\n",
              "      <td>['email', 'phone']</td>\n",
              "      <td>...</td>\n",
              "      <td>4.97</td>\n",
              "      <td>4.92</td>\n",
              "      <td>4.81</td>\n",
              "      <td>0</td>\n",
              "      <td>1</td>\n",
              "      <td>0</td>\n",
              "      <td>1</td>\n",
              "      <td>0</td>\n",
              "      <td>8.69</td>\n",
              "      <td>1</td>\n",
              "    </tr>\n",
              "    <tr>\n",
              "      <th>1232</th>\n",
              "      <td>4239235</td>\n",
              "      <td>2012-11-25</td>\n",
              "      <td>Amsterdam, Netherlands</td>\n",
              "      <td>4</td>\n",
              "      <td>95</td>\n",
              "      <td>50</td>\n",
              "      <td>0</td>\n",
              "      <td>1</td>\n",
              "      <td>5</td>\n",
              "      <td>['email', 'phone']</td>\n",
              "      <td>...</td>\n",
              "      <td>5.00</td>\n",
              "      <td>4.76</td>\n",
              "      <td>4.76</td>\n",
              "      <td>0</td>\n",
              "      <td>1</td>\n",
              "      <td>1</td>\n",
              "      <td>0</td>\n",
              "      <td>0</td>\n",
              "      <td>0.14</td>\n",
              "      <td>1</td>\n",
              "    </tr>\n",
              "  </tbody>\n",
              "</table>\n",
              "<p>1233 rows × 55 columns</p>\n",
              "</div>\n",
              "      <button class=\"colab-df-convert\" onclick=\"convertToInteractive('df-312ae5d8-6f6b-4f29-b19a-1e32818dcf92')\"\n",
              "              title=\"Convert this dataframe to an interactive table.\"\n",
              "              style=\"display:none;\">\n",
              "        \n",
              "  <svg xmlns=\"http://www.w3.org/2000/svg\" height=\"24px\"viewBox=\"0 0 24 24\"\n",
              "       width=\"24px\">\n",
              "    <path d=\"M0 0h24v24H0V0z\" fill=\"none\"/>\n",
              "    <path d=\"M18.56 5.44l.94 2.06.94-2.06 2.06-.94-2.06-.94-.94-2.06-.94 2.06-2.06.94zm-11 1L8.5 8.5l.94-2.06 2.06-.94-2.06-.94L8.5 2.5l-.94 2.06-2.06.94zm10 10l.94 2.06.94-2.06 2.06-.94-2.06-.94-.94-2.06-.94 2.06-2.06.94z\"/><path d=\"M17.41 7.96l-1.37-1.37c-.4-.4-.92-.59-1.43-.59-.52 0-1.04.2-1.43.59L10.3 9.45l-7.72 7.72c-.78.78-.78 2.05 0 2.83L4 21.41c.39.39.9.59 1.41.59.51 0 1.02-.2 1.41-.59l7.78-7.78 2.81-2.81c.8-.78.8-2.07 0-2.86zM5.41 20L4 18.59l7.72-7.72 1.47 1.35L5.41 20z\"/>\n",
              "  </svg>\n",
              "      </button>\n",
              "      \n",
              "  <style>\n",
              "    .colab-df-container {\n",
              "      display:flex;\n",
              "      flex-wrap:wrap;\n",
              "      gap: 12px;\n",
              "    }\n",
              "\n",
              "    .colab-df-convert {\n",
              "      background-color: #E8F0FE;\n",
              "      border: none;\n",
              "      border-radius: 50%;\n",
              "      cursor: pointer;\n",
              "      display: none;\n",
              "      fill: #1967D2;\n",
              "      height: 32px;\n",
              "      padding: 0 0 0 0;\n",
              "      width: 32px;\n",
              "    }\n",
              "\n",
              "    .colab-df-convert:hover {\n",
              "      background-color: #E2EBFA;\n",
              "      box-shadow: 0px 1px 2px rgba(60, 64, 67, 0.3), 0px 1px 3px 1px rgba(60, 64, 67, 0.15);\n",
              "      fill: #174EA6;\n",
              "    }\n",
              "\n",
              "    [theme=dark] .colab-df-convert {\n",
              "      background-color: #3B4455;\n",
              "      fill: #D2E3FC;\n",
              "    }\n",
              "\n",
              "    [theme=dark] .colab-df-convert:hover {\n",
              "      background-color: #434B5C;\n",
              "      box-shadow: 0px 1px 3px 1px rgba(0, 0, 0, 0.15);\n",
              "      filter: drop-shadow(0px 1px 2px rgba(0, 0, 0, 0.3));\n",
              "      fill: #FFFFFF;\n",
              "    }\n",
              "  </style>\n",
              "\n",
              "      <script>\n",
              "        const buttonEl =\n",
              "          document.querySelector('#df-312ae5d8-6f6b-4f29-b19a-1e32818dcf92 button.colab-df-convert');\n",
              "        buttonEl.style.display =\n",
              "          google.colab.kernel.accessAllowed ? 'block' : 'none';\n",
              "\n",
              "        async function convertToInteractive(key) {\n",
              "          const element = document.querySelector('#df-312ae5d8-6f6b-4f29-b19a-1e32818dcf92');\n",
              "          const dataTable =\n",
              "            await google.colab.kernel.invokeFunction('convertToInteractive',\n",
              "                                                     [key], {});\n",
              "          if (!dataTable) return;\n",
              "\n",
              "          const docLinkHtml = 'Like what you see? Visit the ' +\n",
              "            '<a target=\"_blank\" href=https://colab.research.google.com/notebooks/data_table.ipynb>data table notebook</a>'\n",
              "            + ' to learn more about interactive tables.';\n",
              "          element.innerHTML = '';\n",
              "          dataTable['output_type'] = 'display_data';\n",
              "          await google.colab.output.renderOutput(dataTable, element);\n",
              "          const docLink = document.createElement('div');\n",
              "          docLink.innerHTML = docLinkHtml;\n",
              "          element.appendChild(docLink);\n",
              "        }\n",
              "      </script>\n",
              "    </div>\n",
              "  </div>\n",
              "  "
            ]
          },
          "metadata": {},
          "execution_count": 89
        }
      ],
      "source": [
        "host_response_time(test_t)"
      ]
    },
    {
      "cell_type": "markdown",
      "metadata": {
        "id": "Joq3bgCmYRxA"
      },
      "source": [
        "*host_location*, *neighbourhood_cleansed*, *property_type*"
      ]
    },
    {
      "cell_type": "code",
      "execution_count": 90,
      "metadata": {
        "id": "Dz7sPTJ7YwQv"
      },
      "outputs": [],
      "source": [
        "test_t.loc[test_t[\"host_location\"]==\"CA\", \"host_location\"] = \"USA\"\n",
        "test_t.loc[test_t[\"host_location\"]==\"CO\", \"host_location\"] = \"USA\"\n",
        "test_t.loc[test_t[\"host_location\"]==\"DC\", \"host_location\"] = \"USA\"\n",
        "test_t.loc[test_t[\"host_location\"]==\"FL\", \"host_location\"] = \"USA\"\n",
        "test_t.loc[test_t[\"host_location\"]==\"IL\", \"host_location\"] = \"USA\"\n",
        "test_t.loc[test_t[\"host_location\"]==\"NY\", \"host_location\"] = \"USA\"\n",
        "test_t.loc[test_t[\"host_location\"]==\"RI\", \"host_location\"] = \"USA\""
      ]
    },
    {
      "cell_type": "code",
      "execution_count": 91,
      "metadata": {
        "id": "GOzB1-qyY5Ar"
      },
      "outputs": [],
      "source": [
        "test_t.loc[test_t[\"host_location\"].isnull()==True, \"host_location\"] = \"missing\""
      ]
    },
    {
      "cell_type": "code",
      "execution_count": 92,
      "metadata": {
        "id": "43KO_gXtZB0O"
      },
      "outputs": [],
      "source": [
        "dl=[]\n",
        "for i in test_t['host_location']:\n",
        "  x = i.split(\",\")\n",
        "  respuesta_l=func(x,top_5_location)\n",
        "  dl.append(respuesta_l)\n",
        "test_t=test_t.drop([\"host_location\"],axis=1)\n",
        "test_t['host_location'] = dl"
      ]
    },
    {
      "cell_type": "markdown",
      "metadata": {
        "id": "jfzM___ZZLZb"
      },
      "source": [
        "*neighbourhood_cleansed*"
      ]
    },
    {
      "cell_type": "code",
      "execution_count": 93,
      "metadata": {
        "id": "gsrJwwFbZOpA"
      },
      "outputs": [],
      "source": [
        "dn=[]\n",
        "for i in test_t['neighbourhood_cleansed']:\n",
        "  x = i.split(\"-\")\n",
        "  respuesta_n=func(x,top_5_neighbourhood)\n",
        "  dn.append(respuesta_n)\n",
        "test_t=test_t.drop([\"neighbourhood_cleansed\"],axis=1)\n",
        "test_t['neighbourhood_cleansed'] = dn"
      ]
    },
    {
      "cell_type": "markdown",
      "metadata": {
        "id": "5jpzwsuFlqbO"
      },
      "source": [
        "*property_type*"
      ]
    },
    {
      "cell_type": "code",
      "execution_count": 94,
      "metadata": {
        "id": "Rq3UGI5VltoF"
      },
      "outputs": [],
      "source": [
        "dp=[]\n",
        "for i in test_t['property_type']:\n",
        "  x = i.split(\"-\")\n",
        "  respuesta_p=func(x,top_5_property)\n",
        "  dp.append(respuesta_p)\n",
        "test_t=test_t.drop([\"property_type\"],axis=1)\n",
        "test_t['property_type'] = dp"
      ]
    },
    {
      "cell_type": "markdown",
      "metadata": {
        "id": "ObjAnthnZitf"
      },
      "source": [
        "*Amenities*"
      ]
    },
    {
      "cell_type": "code",
      "execution_count": 95,
      "metadata": {
        "id": "2bWqTeg0l6EU",
        "colab": {
          "base_uri": "https://localhost:8080/"
        },
        "outputId": "66701f00-4dda-4417-f7e3-156b9d8419a6"
      },
      "outputs": [
        {
          "output_type": "stream",
          "name": "stderr",
          "text": [
            "<ipython-input-95-aa1767a79b15>:1: FutureWarning: The default value of regex will change from True to False in a future version. In addition, single character regular expressions will *not* be treated as literal strings when regex=True.\n",
            "  test_t.amenities = test_t.amenities.str.replace('[', '')\n",
            "<ipython-input-95-aa1767a79b15>:2: FutureWarning: The default value of regex will change from True to False in a future version. In addition, single character regular expressions will *not* be treated as literal strings when regex=True.\n",
            "  test_t.amenities = test_t.amenities.str.replace(']', '')\n",
            "<ipython-input-95-aa1767a79b15>:4: FutureWarning: The default value of regex will change from True to False in a future version. In addition, single character regular expressions will *not* be treated as literal strings when regex=True.\n",
            "  test_t.amenities = test_t.amenities.str.replace('.', '')\n"
          ]
        }
      ],
      "source": [
        "test_t.amenities = test_t.amenities.str.replace('[', '')\n",
        "test_t.amenities = test_t.amenities.str.replace(']', '')\n",
        "test_t.amenities = test_t.amenities.str.replace('\"', '')\n",
        "test_t.amenities = test_t.amenities.str.replace('.', '')\n",
        "test_t.amenities = test_t[\"amenities\"].str.lstrip()\n",
        "test_t['Amenities']=test_t[\"amenities\"].apply(lambda x: len(x.split(',')))"
      ]
    },
    {
      "cell_type": "code",
      "execution_count": 96,
      "metadata": {
        "id": "ohgZ8IoYZuTr"
      },
      "outputs": [],
      "source": [
        "test_t=test_t.drop([\"amenities\"],axis=1)"
      ]
    },
    {
      "cell_type": "code",
      "execution_count": 97,
      "metadata": {
        "id": "3A_IWDmVlxxZ"
      },
      "outputs": [],
      "source": [
        "test_t = test_t.astype({'host_location':'int64', 'neighbourhood_cleansed':'int64','property_type':'int64'})"
      ]
    },
    {
      "cell_type": "markdown",
      "metadata": {
        "id": "isQxBCKunF_k"
      },
      "source": [
        "*Room_type*"
      ]
    },
    {
      "cell_type": "code",
      "execution_count": 98,
      "metadata": {
        "id": "LBI3-bf3m_fZ"
      },
      "outputs": [],
      "source": [
        "test_t.loc[test_t[\"room_type\"]==\"Private room\", \"room_type\"] = 1\n",
        "test_t.loc[test_t[\"room_type\"]==\"Entire home/apt\", \"room_type\"] = 1\n",
        "test_t.loc[test_t[\"room_type\"]==\"Hotel room\", \"room_type\"] = 1\n",
        "test_t.loc[test_t[\"room_type\"]==\"Shared room\", \"room_type\"] = 0\n",
        "test_t = test_t.astype({'room_type':'int64'})"
      ]
    },
    {
      "cell_type": "markdown",
      "metadata": {
        "id": "yiMJx6k-ZzRX"
      },
      "source": [
        "*host_Verification*"
      ]
    },
    {
      "cell_type": "code",
      "execution_count": 99,
      "metadata": {
        "id": "0OIkuALAZ01o",
        "colab": {
          "base_uri": "https://localhost:8080/"
        },
        "outputId": "9522d768-cc91-4453-b09c-c89519905b10"
      },
      "outputs": [
        {
          "output_type": "stream",
          "name": "stderr",
          "text": [
            "<ipython-input-99-b2bd330e47ed>:1: FutureWarning: The default value of regex will change from True to False in a future version. In addition, single character regular expressions will *not* be treated as literal strings when regex=True.\n",
            "  test_t.host_verifications = test_t.host_verifications.str.replace('[', '')\n",
            "<ipython-input-99-b2bd330e47ed>:2: FutureWarning: The default value of regex will change from True to False in a future version. In addition, single character regular expressions will *not* be treated as literal strings when regex=True.\n",
            "  test_t.host_verifications = test_t.host_verifications.str.replace(']', '')\n"
          ]
        }
      ],
      "source": [
        "test_t.host_verifications = test_t.host_verifications.str.replace('[', '')\n",
        "test_t.host_verifications = test_t.host_verifications.str.replace(']', '')"
      ]
    },
    {
      "cell_type": "code",
      "execution_count": 100,
      "metadata": {
        "id": "fHYOtVo7Z07t"
      },
      "outputs": [],
      "source": [
        "email=[]\n",
        "find_word=\"email\"\n",
        "for i in test_t[\"host_verifications\"]:\n",
        "  if find_word in i:\n",
        "    email.append(1)\n",
        "  else:\n",
        "    email.append(0)"
      ]
    },
    {
      "cell_type": "code",
      "execution_count": 101,
      "metadata": {
        "id": "EIE0zvbmZ3ZO"
      },
      "outputs": [],
      "source": [
        "phone=[]\n",
        "find_word=\"phone\"\n",
        "for i in test_t[\"host_verifications\"]:\n",
        "  if find_word in i:\n",
        "    phone.append(1)\n",
        "  else:\n",
        "    phone.append(0)"
      ]
    },
    {
      "cell_type": "code",
      "execution_count": 102,
      "metadata": {
        "id": "U8oj9L7QZ3WU"
      },
      "outputs": [],
      "source": [
        "work=[]\n",
        "find_word=\"work_email\"\n",
        "for i in test_t[\"host_verifications\"]:\n",
        "  if find_word in i:\n",
        "    work.append(1)\n",
        "  else:\n",
        "    work.append(0)"
      ]
    },
    {
      "cell_type": "code",
      "execution_count": 103,
      "metadata": {
        "id": "RpUilzg3Z3T6"
      },
      "outputs": [],
      "source": [
        "test_t[\"email\"]=email\n",
        "test_t[\"phone\"]=phone\n",
        "test_t[\"work_email\"]=work\n",
        "test_t=test_t.drop([\"host_verifications\"],axis=1)"
      ]
    },
    {
      "cell_type": "markdown",
      "metadata": {
        "id": "Z0JCo2iFZ9K-"
      },
      "source": [
        "*host_since, calendar_last_scraped, first_review, last_review*"
      ]
    },
    {
      "cell_type": "code",
      "execution_count": 104,
      "metadata": {
        "id": "zX3l9U-EZ3Qg"
      },
      "outputs": [],
      "source": [
        "test_t['host_since'] = pd.to_datetime(test_t['host_since'])\n",
        "test_t['calendar_last_scraped'] = pd.to_datetime(test_t['calendar_last_scraped'])\n",
        "test_t['first_review'] = pd.to_datetime(test_t['first_review'])\n",
        "test_t['last_review'] = pd.to_datetime(test_t['last_review'])"
      ]
    },
    {
      "cell_type": "code",
      "execution_count": 105,
      "metadata": {
        "id": "dkt7F72uZ3M5"
      },
      "outputs": [],
      "source": [
        "test_t['host_since'] = test_t['host_since'].dt.strftime('%Y%m%d').astype('int64')\n",
        "test_t['calendar_last_scraped'] = test_t['calendar_last_scraped'].dt.strftime('%Y%m%d').astype('int64')\n",
        "test_t['first_review'] = test_t['first_review'].dt.strftime('%Y%m%d').astype('int64')\n",
        "test_t['last_review'] = test_t['last_review'].dt.strftime('%Y%m%d').astype('int64')"
      ]
    },
    {
      "cell_type": "markdown",
      "metadata": {
        "id": "zVHHUovCjcki"
      },
      "source": [
        "## Missing"
      ]
    },
    {
      "cell_type": "code",
      "execution_count": null,
      "metadata": {
        "id": "pNEpdnrdjgRU"
      },
      "outputs": [],
      "source": [
        "test_t.describe().T"
      ]
    },
    {
      "cell_type": "code",
      "execution_count": 107,
      "metadata": {
        "id": "qEpeMUiHjeW7"
      },
      "outputs": [],
      "source": [
        "test_t[\"bathrooms\"]=mean_imputer.fit_transform(test_t['bathrooms'].values.reshape(-1,1))"
      ]
    },
    {
      "cell_type": "code",
      "execution_count": 108,
      "metadata": {
        "id": "Mk5FMb7Xjuwi"
      },
      "outputs": [],
      "source": [
        "test_t[\"bedrooms\"]=mean_imputer.fit_transform(test_t['bedrooms'].values.reshape(-1,1))"
      ]
    },
    {
      "cell_type": "code",
      "execution_count": 109,
      "metadata": {
        "id": "dxvks3DbjvyN"
      },
      "outputs": [],
      "source": [
        "test_t[\"beds\"]=mean_imputer.fit_transform(test_t['beds'].values.reshape(-1,1))"
      ]
    },
    {
      "cell_type": "markdown",
      "metadata": {
        "id": "aIvTtK7waNTS"
      },
      "source": [
        "# **Final Document**"
      ]
    },
    {
      "cell_type": "code",
      "execution_count": null,
      "metadata": {
        "id": "2neWkAlSaPSc"
      },
      "outputs": [],
      "source": [
        "test_t.head(10)"
      ]
    },
    {
      "cell_type": "code",
      "execution_count": null,
      "metadata": {
        "id": "Op3793PgaRN1"
      },
      "outputs": [],
      "source": [
        "resultado=modelo_CBgrid.predict(test_t)"
      ]
    },
    {
      "cell_type": "code",
      "execution_count": null,
      "metadata": {
        "id": "O6iXZysUaRJk"
      },
      "outputs": [],
      "source": [
        "salida = pd.DataFrame(data={\"review_scores_rating\": resultado}).astype(str)\n",
        "salida.index = test.id\n",
        "salida.to_csv(\"modelo_GBgrid_.csv\", sep=',',index=True,  index_label='Id')"
      ]
    }
  ],
  "metadata": {
    "colab": {
      "provenance": [],
      "authorship_tag": "ABX9TyMuMV7n7BpjbxDbIQtJsdqr",
      "include_colab_link": true
    },
    "kernelspec": {
      "display_name": "Python 3",
      "name": "python3"
    },
    "language_info": {
      "name": "python"
    }
  },
  "nbformat": 4,
  "nbformat_minor": 0
}